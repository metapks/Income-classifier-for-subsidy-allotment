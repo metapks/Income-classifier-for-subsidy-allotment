{
 "cells": [
  {
   "cell_type": "markdown",
   "id": "74ccdb41",
   "metadata": {},
   "source": [
    "## Problem Statement\n",
    "\n",
    "XYZ company provides subsidy to individuals. They have a large large data set for people geographical infomation, some financaial parameters, personal informations etc and their income bracket. Data is given in income.csv file. SO, the goal is to develop an classification syatem to predict income of individuals to provide subsidyies to them.\n"
   ]
  },
  {
   "cell_type": "code",
   "execution_count": 1,
   "id": "0217ee00",
   "metadata": {},
   "outputs": [],
   "source": [
    "# import libraries\n",
    "import pandas as pd\n",
    "import numpy as np\n",
    "import seaborn as sns"
   ]
  },
  {
   "cell_type": "code",
   "execution_count": 7,
   "id": "fe7132f4",
   "metadata": {},
   "outputs": [],
   "source": [
    "#load file\n",
    "data= pd.read_csv('income.csv')"
   ]
  },
  {
   "cell_type": "code",
   "execution_count": 8,
   "id": "07c9cccc",
   "metadata": {},
   "outputs": [],
   "source": [
    "#creating a copy of data\n",
    "df=data.copy(deep=True)"
   ]
  },
  {
   "cell_type": "code",
   "execution_count": 9,
   "id": "f4435a61",
   "metadata": {},
   "outputs": [
    {
     "data": {
      "text/html": [
       "<div>\n",
       "<style scoped>\n",
       "    .dataframe tbody tr th:only-of-type {\n",
       "        vertical-align: middle;\n",
       "    }\n",
       "\n",
       "    .dataframe tbody tr th {\n",
       "        vertical-align: top;\n",
       "    }\n",
       "\n",
       "    .dataframe thead th {\n",
       "        text-align: right;\n",
       "    }\n",
       "</style>\n",
       "<table border=\"1\" class=\"dataframe\">\n",
       "  <thead>\n",
       "    <tr style=\"text-align: right;\">\n",
       "      <th></th>\n",
       "      <th>age</th>\n",
       "      <th>JobType</th>\n",
       "      <th>EdType</th>\n",
       "      <th>maritalstatus</th>\n",
       "      <th>Occupation</th>\n",
       "      <th>relationship</th>\n",
       "      <th>race</th>\n",
       "      <th>gender</th>\n",
       "      <th>capitalgain</th>\n",
       "      <th>capitalloss</th>\n",
       "      <th>hoursperweek</th>\n",
       "      <th>nativecountry</th>\n",
       "      <th>SalStat</th>\n",
       "    </tr>\n",
       "  </thead>\n",
       "  <tbody>\n",
       "    <tr>\n",
       "      <th>0</th>\n",
       "      <td>39</td>\n",
       "      <td>State-gov</td>\n",
       "      <td>Bachelors</td>\n",
       "      <td>Never-married</td>\n",
       "      <td>Adm-clerical</td>\n",
       "      <td>Not-in-family</td>\n",
       "      <td>White</td>\n",
       "      <td>Male</td>\n",
       "      <td>2174</td>\n",
       "      <td>0</td>\n",
       "      <td>40</td>\n",
       "      <td>United-States</td>\n",
       "      <td>&lt;=50K</td>\n",
       "    </tr>\n",
       "    <tr>\n",
       "      <th>1</th>\n",
       "      <td>50</td>\n",
       "      <td>Self-emp-not-inc</td>\n",
       "      <td>Bachelors</td>\n",
       "      <td>Married-civ-spouse</td>\n",
       "      <td>Exec-managerial</td>\n",
       "      <td>Husband</td>\n",
       "      <td>White</td>\n",
       "      <td>Male</td>\n",
       "      <td>0</td>\n",
       "      <td>0</td>\n",
       "      <td>13</td>\n",
       "      <td>United-States</td>\n",
       "      <td>&lt;=50K</td>\n",
       "    </tr>\n",
       "    <tr>\n",
       "      <th>2</th>\n",
       "      <td>38</td>\n",
       "      <td>Private</td>\n",
       "      <td>HS-grad</td>\n",
       "      <td>Divorced</td>\n",
       "      <td>Handlers-cleaners</td>\n",
       "      <td>Not-in-family</td>\n",
       "      <td>White</td>\n",
       "      <td>Male</td>\n",
       "      <td>0</td>\n",
       "      <td>0</td>\n",
       "      <td>40</td>\n",
       "      <td>United-States</td>\n",
       "      <td>&lt;=50K</td>\n",
       "    </tr>\n",
       "    <tr>\n",
       "      <th>3</th>\n",
       "      <td>53</td>\n",
       "      <td>Private</td>\n",
       "      <td>11th</td>\n",
       "      <td>Married-civ-spouse</td>\n",
       "      <td>Handlers-cleaners</td>\n",
       "      <td>Husband</td>\n",
       "      <td>Black</td>\n",
       "      <td>Male</td>\n",
       "      <td>0</td>\n",
       "      <td>0</td>\n",
       "      <td>40</td>\n",
       "      <td>United-States</td>\n",
       "      <td>&lt;=50K</td>\n",
       "    </tr>\n",
       "    <tr>\n",
       "      <th>4</th>\n",
       "      <td>28</td>\n",
       "      <td>Private</td>\n",
       "      <td>Bachelors</td>\n",
       "      <td>Married-civ-spouse</td>\n",
       "      <td>Prof-specialty</td>\n",
       "      <td>Wife</td>\n",
       "      <td>Black</td>\n",
       "      <td>Female</td>\n",
       "      <td>0</td>\n",
       "      <td>0</td>\n",
       "      <td>40</td>\n",
       "      <td>Cuba</td>\n",
       "      <td>&lt;=50K</td>\n",
       "    </tr>\n",
       "  </tbody>\n",
       "</table>\n",
       "</div>"
      ],
      "text/plain": [
       "   age            JobType      EdType        maritalstatus  \\\n",
       "0   39          State-gov   Bachelors        Never-married   \n",
       "1   50   Self-emp-not-inc   Bachelors   Married-civ-spouse   \n",
       "2   38            Private     HS-grad             Divorced   \n",
       "3   53            Private        11th   Married-civ-spouse   \n",
       "4   28            Private   Bachelors   Married-civ-spouse   \n",
       "\n",
       "           Occupation    relationship    race   gender  capitalgain  \\\n",
       "0        Adm-clerical   Not-in-family   White     Male         2174   \n",
       "1     Exec-managerial         Husband   White     Male            0   \n",
       "2   Handlers-cleaners   Not-in-family   White     Male            0   \n",
       "3   Handlers-cleaners         Husband   Black     Male            0   \n",
       "4      Prof-specialty            Wife   Black   Female            0   \n",
       "\n",
       "   capitalloss  hoursperweek   nativecountry SalStat  \n",
       "0            0            40   United-States   <=50K  \n",
       "1            0            13   United-States   <=50K  \n",
       "2            0            40   United-States   <=50K  \n",
       "3            0            40   United-States   <=50K  \n",
       "4            0            40            Cuba   <=50K  "
      ]
     },
     "execution_count": 9,
     "metadata": {},
     "output_type": "execute_result"
    }
   ],
   "source": [
    "# Exploring the data structures\n",
    "df.head()"
   ]
  },
  {
   "cell_type": "code",
   "execution_count": 10,
   "id": "cdf87a2b",
   "metadata": {},
   "outputs": [
    {
     "name": "stdout",
     "output_type": "stream",
     "text": [
      "<class 'pandas.core.frame.DataFrame'>\n",
      "RangeIndex: 32561 entries, 0 to 32560\n",
      "Data columns (total 13 columns):\n",
      " #   Column         Non-Null Count  Dtype \n",
      "---  ------         --------------  ----- \n",
      " 0   age            32561 non-null  int64 \n",
      " 1   JobType        32561 non-null  object\n",
      " 2   EdType         32561 non-null  object\n",
      " 3   maritalstatus  32561 non-null  object\n",
      " 4   Occupation     32561 non-null  object\n",
      " 5   relationship   32561 non-null  object\n",
      " 6   race           32561 non-null  object\n",
      " 7   gender         32561 non-null  object\n",
      " 8   capitalgain    32561 non-null  int64 \n",
      " 9   capitalloss    32561 non-null  int64 \n",
      " 10  hoursperweek   32561 non-null  int64 \n",
      " 11  nativecountry  32561 non-null  object\n",
      " 12  SalStat        32561 non-null  object\n",
      "dtypes: int64(4), object(9)\n",
      "memory usage: 3.2+ MB\n"
     ]
    }
   ],
   "source": [
    "df.info()"
   ]
  },
  {
   "cell_type": "code",
   "execution_count": 11,
   "id": "bc658ad8",
   "metadata": {},
   "outputs": [
    {
     "data": {
      "text/plain": [
       "(32561, 13)"
      ]
     },
     "execution_count": 11,
     "metadata": {},
     "output_type": "execute_result"
    }
   ],
   "source": [
    "df.shape"
   ]
  },
  {
   "cell_type": "code",
   "execution_count": 13,
   "id": "f0a62c65",
   "metadata": {},
   "outputs": [
    {
     "data": {
      "text/plain": [
       "age              0\n",
       "JobType          0\n",
       "EdType           0\n",
       "maritalstatus    0\n",
       "Occupation       0\n",
       "relationship     0\n",
       "race             0\n",
       "gender           0\n",
       "capitalgain      0\n",
       "capitalloss      0\n",
       "hoursperweek     0\n",
       "nativecountry    0\n",
       "SalStat          0\n",
       "dtype: int64"
      ]
     },
     "execution_count": 13,
     "metadata": {},
     "output_type": "execute_result"
    }
   ],
   "source": [
    "#checking for null values\n",
    "df.isnull().sum()"
   ]
  },
  {
   "cell_type": "markdown",
   "id": "5bbb7809",
   "metadata": {},
   "source": [
    "So, there is no null value present in the data"
   ]
  },
  {
   "cell_type": "code",
   "execution_count": 14,
   "id": "c48bf710",
   "metadata": {},
   "outputs": [
    {
     "data": {
      "text/html": [
       "<div>\n",
       "<style scoped>\n",
       "    .dataframe tbody tr th:only-of-type {\n",
       "        vertical-align: middle;\n",
       "    }\n",
       "\n",
       "    .dataframe tbody tr th {\n",
       "        vertical-align: top;\n",
       "    }\n",
       "\n",
       "    .dataframe thead th {\n",
       "        text-align: right;\n",
       "    }\n",
       "</style>\n",
       "<table border=\"1\" class=\"dataframe\">\n",
       "  <thead>\n",
       "    <tr style=\"text-align: right;\">\n",
       "      <th></th>\n",
       "      <th>age</th>\n",
       "      <th>capitalgain</th>\n",
       "      <th>capitalloss</th>\n",
       "      <th>hoursperweek</th>\n",
       "    </tr>\n",
       "  </thead>\n",
       "  <tbody>\n",
       "    <tr>\n",
       "      <th>count</th>\n",
       "      <td>32561.000000</td>\n",
       "      <td>32561.000000</td>\n",
       "      <td>32561.000000</td>\n",
       "      <td>32561.000000</td>\n",
       "    </tr>\n",
       "    <tr>\n",
       "      <th>mean</th>\n",
       "      <td>38.581647</td>\n",
       "      <td>1077.648844</td>\n",
       "      <td>87.303830</td>\n",
       "      <td>40.437456</td>\n",
       "    </tr>\n",
       "    <tr>\n",
       "      <th>std</th>\n",
       "      <td>13.640433</td>\n",
       "      <td>7385.292085</td>\n",
       "      <td>402.960219</td>\n",
       "      <td>12.347429</td>\n",
       "    </tr>\n",
       "    <tr>\n",
       "      <th>min</th>\n",
       "      <td>17.000000</td>\n",
       "      <td>0.000000</td>\n",
       "      <td>0.000000</td>\n",
       "      <td>1.000000</td>\n",
       "    </tr>\n",
       "    <tr>\n",
       "      <th>25%</th>\n",
       "      <td>28.000000</td>\n",
       "      <td>0.000000</td>\n",
       "      <td>0.000000</td>\n",
       "      <td>40.000000</td>\n",
       "    </tr>\n",
       "    <tr>\n",
       "      <th>50%</th>\n",
       "      <td>37.000000</td>\n",
       "      <td>0.000000</td>\n",
       "      <td>0.000000</td>\n",
       "      <td>40.000000</td>\n",
       "    </tr>\n",
       "    <tr>\n",
       "      <th>75%</th>\n",
       "      <td>48.000000</td>\n",
       "      <td>0.000000</td>\n",
       "      <td>0.000000</td>\n",
       "      <td>45.000000</td>\n",
       "    </tr>\n",
       "    <tr>\n",
       "      <th>max</th>\n",
       "      <td>90.000000</td>\n",
       "      <td>99999.000000</td>\n",
       "      <td>4356.000000</td>\n",
       "      <td>99.000000</td>\n",
       "    </tr>\n",
       "  </tbody>\n",
       "</table>\n",
       "</div>"
      ],
      "text/plain": [
       "                age   capitalgain   capitalloss  hoursperweek\n",
       "count  32561.000000  32561.000000  32561.000000  32561.000000\n",
       "mean      38.581647   1077.648844     87.303830     40.437456\n",
       "std       13.640433   7385.292085    402.960219     12.347429\n",
       "min       17.000000      0.000000      0.000000      1.000000\n",
       "25%       28.000000      0.000000      0.000000     40.000000\n",
       "50%       37.000000      0.000000      0.000000     40.000000\n",
       "75%       48.000000      0.000000      0.000000     45.000000\n",
       "max       90.000000  99999.000000   4356.000000     99.000000"
      ]
     },
     "execution_count": 14,
     "metadata": {},
     "output_type": "execute_result"
    }
   ],
   "source": [
    "#summary of numerical variables\n",
    "df.describe()"
   ]
  },
  {
   "cell_type": "markdown",
   "id": "0ef42f19",
   "metadata": {},
   "source": [
    "the capital gain mean is much higher than the capital loss, BUT it does not indicate any good informations as the Quartile values and median are Zero. The average hours per week is somewhrt closer to 40 hrs a week "
   ]
  },
  {
   "cell_type": "code",
   "execution_count": 17,
   "id": "72dfe3c6",
   "metadata": {},
   "outputs": [
    {
     "data": {
      "text/html": [
       "<div>\n",
       "<style scoped>\n",
       "    .dataframe tbody tr th:only-of-type {\n",
       "        vertical-align: middle;\n",
       "    }\n",
       "\n",
       "    .dataframe tbody tr th {\n",
       "        vertical-align: top;\n",
       "    }\n",
       "\n",
       "    .dataframe thead th {\n",
       "        text-align: right;\n",
       "    }\n",
       "</style>\n",
       "<table border=\"1\" class=\"dataframe\">\n",
       "  <thead>\n",
       "    <tr style=\"text-align: right;\">\n",
       "      <th></th>\n",
       "      <th>JobType</th>\n",
       "      <th>EdType</th>\n",
       "      <th>maritalstatus</th>\n",
       "      <th>Occupation</th>\n",
       "      <th>relationship</th>\n",
       "      <th>race</th>\n",
       "      <th>gender</th>\n",
       "      <th>nativecountry</th>\n",
       "      <th>SalStat</th>\n",
       "    </tr>\n",
       "  </thead>\n",
       "  <tbody>\n",
       "    <tr>\n",
       "      <th>count</th>\n",
       "      <td>32561</td>\n",
       "      <td>32561</td>\n",
       "      <td>32561</td>\n",
       "      <td>32561</td>\n",
       "      <td>32561</td>\n",
       "      <td>32561</td>\n",
       "      <td>32561</td>\n",
       "      <td>32561</td>\n",
       "      <td>32561</td>\n",
       "    </tr>\n",
       "    <tr>\n",
       "      <th>unique</th>\n",
       "      <td>9</td>\n",
       "      <td>16</td>\n",
       "      <td>7</td>\n",
       "      <td>15</td>\n",
       "      <td>6</td>\n",
       "      <td>5</td>\n",
       "      <td>2</td>\n",
       "      <td>42</td>\n",
       "      <td>2</td>\n",
       "    </tr>\n",
       "    <tr>\n",
       "      <th>top</th>\n",
       "      <td>Private</td>\n",
       "      <td>HS-grad</td>\n",
       "      <td>Married-civ-spouse</td>\n",
       "      <td>Prof-specialty</td>\n",
       "      <td>Husband</td>\n",
       "      <td>White</td>\n",
       "      <td>Male</td>\n",
       "      <td>United-States</td>\n",
       "      <td>&lt;=50K</td>\n",
       "    </tr>\n",
       "    <tr>\n",
       "      <th>freq</th>\n",
       "      <td>22696</td>\n",
       "      <td>10501</td>\n",
       "      <td>14976</td>\n",
       "      <td>4140</td>\n",
       "      <td>13193</td>\n",
       "      <td>27816</td>\n",
       "      <td>21790</td>\n",
       "      <td>29170</td>\n",
       "      <td>24720</td>\n",
       "    </tr>\n",
       "  </tbody>\n",
       "</table>\n",
       "</div>"
      ],
      "text/plain": [
       "         JobType    EdType        maritalstatus       Occupation relationship  \\\n",
       "count      32561     32561                32561            32561        32561   \n",
       "unique         9        16                    7               15            6   \n",
       "top      Private   HS-grad   Married-civ-spouse   Prof-specialty      Husband   \n",
       "freq       22696     10501                14976             4140        13193   \n",
       "\n",
       "          race gender   nativecountry SalStat  \n",
       "count    32561  32561           32561   32561  \n",
       "unique       5      2              42       2  \n",
       "top      White   Male   United-States   <=50K  \n",
       "freq     27816  21790           29170   24720  "
      ]
     },
     "execution_count": 17,
     "metadata": {},
     "output_type": "execute_result"
    }
   ],
   "source": [
    "# Summary of Categorical variables\n",
    "df.describe(include='O')"
   ]
  },
  {
   "cell_type": "code",
   "execution_count": 18,
   "id": "0976bb53",
   "metadata": {},
   "outputs": [
    {
     "data": {
      "text/plain": [
       " Private             22696\n",
       " Self-emp-not-inc     2541\n",
       " Local-gov            2093\n",
       " ?                    1836\n",
       " State-gov            1298\n",
       " Self-emp-inc         1116\n",
       " Federal-gov           960\n",
       " Without-pay            14\n",
       " Never-worked            7\n",
       "Name: JobType, dtype: int64"
      ]
     },
     "execution_count": 18,
     "metadata": {},
     "output_type": "execute_result"
    }
   ],
   "source": [
    "#frequency of each category\n",
    "\n",
    "df['JobType'].value_counts()"
   ]
  },
  {
   "cell_type": "markdown",
   "id": "c1788972",
   "metadata": {},
   "source": [
    "So, in Job Type we have 1836 rows where the job type is not defined , marjed as ?"
   ]
  },
  {
   "cell_type": "code",
   "execution_count": 19,
   "id": "fe050dae",
   "metadata": {},
   "outputs": [
    {
     "data": {
      "text/plain": [
       " HS-grad         10501\n",
       " Some-college     7291\n",
       " Bachelors        5355\n",
       " Masters          1723\n",
       " Assoc-voc        1382\n",
       " 11th             1175\n",
       " Assoc-acdm       1067\n",
       " 10th              933\n",
       " 7th-8th           646\n",
       " Prof-school       576\n",
       " 9th               514\n",
       " 12th              433\n",
       " Doctorate         413\n",
       " 5th-6th           333\n",
       " 1st-4th           168\n",
       " Preschool          51\n",
       "Name: EdType, dtype: int64"
      ]
     },
     "execution_count": 19,
     "metadata": {},
     "output_type": "execute_result"
    }
   ],
   "source": [
    "df['EdType'].value_counts()"
   ]
  },
  {
   "cell_type": "markdown",
   "id": "e56f61cf",
   "metadata": {},
   "source": [
    "No ? marked entries for Education type"
   ]
  },
  {
   "cell_type": "code",
   "execution_count": 20,
   "id": "f8d9732d",
   "metadata": {},
   "outputs": [
    {
     "data": {
      "text/plain": [
       " Married-civ-spouse       14976\n",
       " Never-married            10683\n",
       " Divorced                  4443\n",
       " Separated                 1025\n",
       " Widowed                    993\n",
       " Married-spouse-absent      418\n",
       " Married-AF-spouse           23\n",
       "Name: maritalstatus, dtype: int64"
      ]
     },
     "execution_count": 20,
     "metadata": {},
     "output_type": "execute_result"
    }
   ],
   "source": [
    "df['maritalstatus'].value_counts()"
   ]
  },
  {
   "cell_type": "markdown",
   "id": "f85b97ae",
   "metadata": {},
   "source": [
    "No ? marked entries for marital status"
   ]
  },
  {
   "cell_type": "code",
   "execution_count": 21,
   "id": "86196405",
   "metadata": {},
   "outputs": [
    {
     "data": {
      "text/plain": [
       " Prof-specialty       4140\n",
       " Craft-repair         4099\n",
       " Exec-managerial      4066\n",
       " Adm-clerical         3770\n",
       " Sales                3650\n",
       " Other-service        3295\n",
       " Machine-op-inspct    2002\n",
       " ?                    1843\n",
       " Transport-moving     1597\n",
       " Handlers-cleaners    1370\n",
       " Farming-fishing       994\n",
       " Tech-support          928\n",
       " Protective-serv       649\n",
       " Priv-house-serv       149\n",
       " Armed-Forces            9\n",
       "Name: Occupation, dtype: int64"
      ]
     },
     "execution_count": 21,
     "metadata": {},
     "output_type": "execute_result"
    }
   ],
   "source": [
    "df['Occupation'].value_counts()"
   ]
  },
  {
   "cell_type": "markdown",
   "id": "26d3cf33",
   "metadata": {},
   "source": [
    "Here again, for Occupation type 1843 entries are undefined"
   ]
  },
  {
   "cell_type": "code",
   "execution_count": 23,
   "id": "3f53b6c5",
   "metadata": {},
   "outputs": [
    {
     "data": {
      "text/plain": [
       " Husband           13193\n",
       " Not-in-family      8305\n",
       " Own-child          5068\n",
       " Unmarried          3446\n",
       " Wife               1568\n",
       " Other-relative      981\n",
       "Name: relationship, dtype: int64"
      ]
     },
     "execution_count": 23,
     "metadata": {},
     "output_type": "execute_result"
    }
   ],
   "source": [
    "df['relationship'].value_counts()"
   ]
  },
  {
   "cell_type": "markdown",
   "id": "fcf6485a",
   "metadata": {},
   "source": [
    "No ? marked entries for relationship"
   ]
  },
  {
   "cell_type": "code",
   "execution_count": 24,
   "id": "9ebaed1a",
   "metadata": {},
   "outputs": [
    {
     "data": {
      "text/plain": [
       " White                 27816\n",
       " Black                  3124\n",
       " Asian-Pac-Islander     1039\n",
       " Amer-Indian-Eskimo      311\n",
       " Other                   271\n",
       "Name: race, dtype: int64"
      ]
     },
     "execution_count": 24,
     "metadata": {},
     "output_type": "execute_result"
    }
   ],
   "source": [
    "df['race'].value_counts()"
   ]
  },
  {
   "cell_type": "markdown",
   "id": "b3055fe7",
   "metadata": {},
   "source": [
    "No ? entries for Race"
   ]
  },
  {
   "cell_type": "code",
   "execution_count": 25,
   "id": "034a9824",
   "metadata": {},
   "outputs": [
    {
     "data": {
      "text/plain": [
       " Male      21790\n",
       " Female    10771\n",
       "Name: gender, dtype: int64"
      ]
     },
     "execution_count": 25,
     "metadata": {},
     "output_type": "execute_result"
    }
   ],
   "source": [
    "df['gender'].value_counts()"
   ]
  },
  {
   "cell_type": "markdown",
   "id": "5b3c59cd",
   "metadata": {},
   "source": [
    "No ? entries for Gender"
   ]
  },
  {
   "cell_type": "code",
   "execution_count": 26,
   "id": "05573622",
   "metadata": {},
   "outputs": [
    {
     "data": {
      "text/plain": [
       " United-States                 29170\n",
       " Mexico                          643\n",
       " ?                               583\n",
       " Philippines                     198\n",
       " Germany                         137\n",
       " Canada                          121\n",
       " Puerto-Rico                     114\n",
       " El-Salvador                     106\n",
       " India                           100\n",
       " Cuba                             95\n",
       " England                          90\n",
       " Jamaica                          81\n",
       " South                            80\n",
       " China                            75\n",
       " Italy                            73\n",
       " Dominican-Republic               70\n",
       " Vietnam                          67\n",
       " Guatemala                        64\n",
       " Japan                            62\n",
       " Poland                           60\n",
       " Columbia                         59\n",
       " Taiwan                           51\n",
       " Haiti                            44\n",
       " Iran                             43\n",
       " Portugal                         37\n",
       " Nicaragua                        34\n",
       " Peru                             31\n",
       " France                           29\n",
       " Greece                           29\n",
       " Ecuador                          28\n",
       " Ireland                          24\n",
       " Hong                             20\n",
       " Cambodia                         19\n",
       " Trinadad&Tobago                  19\n",
       " Laos                             18\n",
       " Thailand                         18\n",
       " Yugoslavia                       16\n",
       " Outlying-US(Guam-USVI-etc)       14\n",
       " Honduras                         13\n",
       " Hungary                          13\n",
       " Scotland                         12\n",
       " Holand-Netherlands                1\n",
       "Name: nativecountry, dtype: int64"
      ]
     },
     "execution_count": 26,
     "metadata": {},
     "output_type": "execute_result"
    }
   ],
   "source": [
    "df['nativecountry'].value_counts()"
   ]
  },
  {
   "cell_type": "markdown",
   "id": "c51ad350",
   "metadata": {},
   "source": [
    "583 entries with un identified entries"
   ]
  },
  {
   "cell_type": "code",
   "execution_count": 27,
   "id": "6a71a9f0",
   "metadata": {},
   "outputs": [
    {
     "data": {
      "text/plain": [
       " <=50K    24720\n",
       " >50K      7841\n",
       "Name: SalStat, dtype: int64"
      ]
     },
     "execution_count": 27,
     "metadata": {},
     "output_type": "execute_result"
    }
   ],
   "source": [
    "df['SalStat'].value_counts()"
   ]
  },
  {
   "cell_type": "markdown",
   "id": "2955c752",
   "metadata": {},
   "source": [
    "SO, Salary state/ income status is defined as either less than equal to 50K or greater than 50K"
   ]
  },
  {
   "cell_type": "markdown",
   "id": "a212180f",
   "metadata": {},
   "source": [
    "Since a lot of rows have ? entries, it has to be replaced with NaN values. Reload the csv and replace the ? with Nan."
   ]
  },
  {
   "cell_type": "code",
   "execution_count": 108,
   "id": "ec2a96fa",
   "metadata": {},
   "outputs": [],
   "source": [
    "df=pd.read_csv('income.csv', na_values=[' ?'])"
   ]
  },
  {
   "cell_type": "code",
   "execution_count": 109,
   "id": "cc8f739e",
   "metadata": {},
   "outputs": [
    {
     "data": {
      "text/plain": [
       "age                 0\n",
       "JobType          1836\n",
       "EdType              0\n",
       "maritalstatus       0\n",
       "Occupation       1843\n",
       "relationship        0\n",
       "race                0\n",
       "gender              0\n",
       "capitalgain         0\n",
       "capitalloss         0\n",
       "hoursperweek        0\n",
       "nativecountry     583\n",
       "SalStat             0\n",
       "dtype: int64"
      ]
     },
     "execution_count": 109,
     "metadata": {},
     "output_type": "execute_result"
    }
   ],
   "source": [
    "#Checking for null values\n",
    "df.isnull().sum()"
   ]
  },
  {
   "cell_type": "code",
   "execution_count": 110,
   "id": "e5356cc8",
   "metadata": {},
   "outputs": [],
   "source": [
    "#HAndling of missing Data values\n",
    "# Creating a subset with all the missing rows\n",
    "\n",
    "missing= df[df.isnull().any(axis=1)]\n",
    "\n",
    "\n"
   ]
  },
  {
   "cell_type": "code",
   "execution_count": 111,
   "id": "d5fd11a6",
   "metadata": {},
   "outputs": [
    {
     "data": {
      "text/html": [
       "<div>\n",
       "<style scoped>\n",
       "    .dataframe tbody tr th:only-of-type {\n",
       "        vertical-align: middle;\n",
       "    }\n",
       "\n",
       "    .dataframe tbody tr th {\n",
       "        vertical-align: top;\n",
       "    }\n",
       "\n",
       "    .dataframe thead th {\n",
       "        text-align: right;\n",
       "    }\n",
       "</style>\n",
       "<table border=\"1\" class=\"dataframe\">\n",
       "  <thead>\n",
       "    <tr style=\"text-align: right;\">\n",
       "      <th></th>\n",
       "      <th>age</th>\n",
       "      <th>JobType</th>\n",
       "      <th>EdType</th>\n",
       "      <th>maritalstatus</th>\n",
       "      <th>Occupation</th>\n",
       "      <th>relationship</th>\n",
       "      <th>race</th>\n",
       "      <th>gender</th>\n",
       "      <th>capitalgain</th>\n",
       "      <th>capitalloss</th>\n",
       "      <th>hoursperweek</th>\n",
       "      <th>nativecountry</th>\n",
       "      <th>SalStat</th>\n",
       "    </tr>\n",
       "  </thead>\n",
       "  <tbody>\n",
       "    <tr>\n",
       "      <th>14</th>\n",
       "      <td>40</td>\n",
       "      <td>Private</td>\n",
       "      <td>Assoc-voc</td>\n",
       "      <td>Married-civ-spouse</td>\n",
       "      <td>Craft-repair</td>\n",
       "      <td>Husband</td>\n",
       "      <td>Asian-Pac-Islander</td>\n",
       "      <td>Male</td>\n",
       "      <td>0</td>\n",
       "      <td>0</td>\n",
       "      <td>40</td>\n",
       "      <td>NaN</td>\n",
       "      <td>&gt;50K</td>\n",
       "    </tr>\n",
       "    <tr>\n",
       "      <th>27</th>\n",
       "      <td>54</td>\n",
       "      <td>NaN</td>\n",
       "      <td>Some-college</td>\n",
       "      <td>Married-civ-spouse</td>\n",
       "      <td>NaN</td>\n",
       "      <td>Husband</td>\n",
       "      <td>Asian-Pac-Islander</td>\n",
       "      <td>Male</td>\n",
       "      <td>0</td>\n",
       "      <td>0</td>\n",
       "      <td>60</td>\n",
       "      <td>South</td>\n",
       "      <td>&gt;50K</td>\n",
       "    </tr>\n",
       "    <tr>\n",
       "      <th>38</th>\n",
       "      <td>31</td>\n",
       "      <td>Private</td>\n",
       "      <td>Some-college</td>\n",
       "      <td>Married-civ-spouse</td>\n",
       "      <td>Sales</td>\n",
       "      <td>Husband</td>\n",
       "      <td>White</td>\n",
       "      <td>Male</td>\n",
       "      <td>0</td>\n",
       "      <td>0</td>\n",
       "      <td>38</td>\n",
       "      <td>NaN</td>\n",
       "      <td>&gt;50K</td>\n",
       "    </tr>\n",
       "    <tr>\n",
       "      <th>51</th>\n",
       "      <td>18</td>\n",
       "      <td>Private</td>\n",
       "      <td>HS-grad</td>\n",
       "      <td>Never-married</td>\n",
       "      <td>Other-service</td>\n",
       "      <td>Own-child</td>\n",
       "      <td>White</td>\n",
       "      <td>Female</td>\n",
       "      <td>0</td>\n",
       "      <td>0</td>\n",
       "      <td>30</td>\n",
       "      <td>NaN</td>\n",
       "      <td>&lt;=50K</td>\n",
       "    </tr>\n",
       "    <tr>\n",
       "      <th>61</th>\n",
       "      <td>32</td>\n",
       "      <td>NaN</td>\n",
       "      <td>7th-8th</td>\n",
       "      <td>Married-spouse-absent</td>\n",
       "      <td>NaN</td>\n",
       "      <td>Not-in-family</td>\n",
       "      <td>White</td>\n",
       "      <td>Male</td>\n",
       "      <td>0</td>\n",
       "      <td>0</td>\n",
       "      <td>40</td>\n",
       "      <td>NaN</td>\n",
       "      <td>&lt;=50K</td>\n",
       "    </tr>\n",
       "    <tr>\n",
       "      <th>...</th>\n",
       "      <td>...</td>\n",
       "      <td>...</td>\n",
       "      <td>...</td>\n",
       "      <td>...</td>\n",
       "      <td>...</td>\n",
       "      <td>...</td>\n",
       "      <td>...</td>\n",
       "      <td>...</td>\n",
       "      <td>...</td>\n",
       "      <td>...</td>\n",
       "      <td>...</td>\n",
       "      <td>...</td>\n",
       "      <td>...</td>\n",
       "    </tr>\n",
       "    <tr>\n",
       "      <th>32530</th>\n",
       "      <td>35</td>\n",
       "      <td>NaN</td>\n",
       "      <td>Bachelors</td>\n",
       "      <td>Married-civ-spouse</td>\n",
       "      <td>NaN</td>\n",
       "      <td>Wife</td>\n",
       "      <td>White</td>\n",
       "      <td>Female</td>\n",
       "      <td>0</td>\n",
       "      <td>0</td>\n",
       "      <td>55</td>\n",
       "      <td>United-States</td>\n",
       "      <td>&gt;50K</td>\n",
       "    </tr>\n",
       "    <tr>\n",
       "      <th>32531</th>\n",
       "      <td>30</td>\n",
       "      <td>NaN</td>\n",
       "      <td>Bachelors</td>\n",
       "      <td>Never-married</td>\n",
       "      <td>NaN</td>\n",
       "      <td>Not-in-family</td>\n",
       "      <td>Asian-Pac-Islander</td>\n",
       "      <td>Female</td>\n",
       "      <td>0</td>\n",
       "      <td>0</td>\n",
       "      <td>99</td>\n",
       "      <td>United-States</td>\n",
       "      <td>&lt;=50K</td>\n",
       "    </tr>\n",
       "    <tr>\n",
       "      <th>32539</th>\n",
       "      <td>71</td>\n",
       "      <td>NaN</td>\n",
       "      <td>Doctorate</td>\n",
       "      <td>Married-civ-spouse</td>\n",
       "      <td>NaN</td>\n",
       "      <td>Husband</td>\n",
       "      <td>White</td>\n",
       "      <td>Male</td>\n",
       "      <td>0</td>\n",
       "      <td>0</td>\n",
       "      <td>10</td>\n",
       "      <td>United-States</td>\n",
       "      <td>&gt;50K</td>\n",
       "    </tr>\n",
       "    <tr>\n",
       "      <th>32541</th>\n",
       "      <td>41</td>\n",
       "      <td>NaN</td>\n",
       "      <td>HS-grad</td>\n",
       "      <td>Separated</td>\n",
       "      <td>NaN</td>\n",
       "      <td>Not-in-family</td>\n",
       "      <td>Black</td>\n",
       "      <td>Female</td>\n",
       "      <td>0</td>\n",
       "      <td>0</td>\n",
       "      <td>32</td>\n",
       "      <td>United-States</td>\n",
       "      <td>&lt;=50K</td>\n",
       "    </tr>\n",
       "    <tr>\n",
       "      <th>32542</th>\n",
       "      <td>72</td>\n",
       "      <td>NaN</td>\n",
       "      <td>HS-grad</td>\n",
       "      <td>Married-civ-spouse</td>\n",
       "      <td>NaN</td>\n",
       "      <td>Husband</td>\n",
       "      <td>White</td>\n",
       "      <td>Male</td>\n",
       "      <td>0</td>\n",
       "      <td>0</td>\n",
       "      <td>25</td>\n",
       "      <td>United-States</td>\n",
       "      <td>&lt;=50K</td>\n",
       "    </tr>\n",
       "  </tbody>\n",
       "</table>\n",
       "<p>2399 rows × 13 columns</p>\n",
       "</div>"
      ],
      "text/plain": [
       "       age   JobType         EdType           maritalstatus      Occupation  \\\n",
       "14      40   Private      Assoc-voc      Married-civ-spouse    Craft-repair   \n",
       "27      54       NaN   Some-college      Married-civ-spouse             NaN   \n",
       "38      31   Private   Some-college      Married-civ-spouse           Sales   \n",
       "51      18   Private        HS-grad           Never-married   Other-service   \n",
       "61      32       NaN        7th-8th   Married-spouse-absent             NaN   \n",
       "...    ...       ...            ...                     ...             ...   \n",
       "32530   35       NaN      Bachelors      Married-civ-spouse             NaN   \n",
       "32531   30       NaN      Bachelors           Never-married             NaN   \n",
       "32539   71       NaN      Doctorate      Married-civ-spouse             NaN   \n",
       "32541   41       NaN        HS-grad               Separated             NaN   \n",
       "32542   72       NaN        HS-grad      Married-civ-spouse             NaN   \n",
       "\n",
       "         relationship                 race   gender  capitalgain  capitalloss  \\\n",
       "14            Husband   Asian-Pac-Islander     Male            0            0   \n",
       "27            Husband   Asian-Pac-Islander     Male            0            0   \n",
       "38            Husband                White     Male            0            0   \n",
       "51          Own-child                White   Female            0            0   \n",
       "61      Not-in-family                White     Male            0            0   \n",
       "...               ...                  ...      ...          ...          ...   \n",
       "32530            Wife                White   Female            0            0   \n",
       "32531   Not-in-family   Asian-Pac-Islander   Female            0            0   \n",
       "32539         Husband                White     Male            0            0   \n",
       "32541   Not-in-family                Black   Female            0            0   \n",
       "32542         Husband                White     Male            0            0   \n",
       "\n",
       "       hoursperweek   nativecountry SalStat  \n",
       "14               40             NaN    >50K  \n",
       "27               60           South    >50K  \n",
       "38               38             NaN    >50K  \n",
       "51               30             NaN   <=50K  \n",
       "61               40             NaN   <=50K  \n",
       "...             ...             ...     ...  \n",
       "32530            55   United-States    >50K  \n",
       "32531            99   United-States   <=50K  \n",
       "32539            10   United-States    >50K  \n",
       "32541            32   United-States   <=50K  \n",
       "32542            25   United-States   <=50K  \n",
       "\n",
       "[2399 rows x 13 columns]"
      ]
     },
     "execution_count": 111,
     "metadata": {},
     "output_type": "execute_result"
    }
   ],
   "source": [
    "missing"
   ]
  },
  {
   "cell_type": "markdown",
   "id": "eb8af06a",
   "metadata": {},
   "source": [
    "SO, 1836 rows in Job Type , 1843 rows in Occupation and 583 rows in native country column are Nan entries. in tiotal 2399 rows of original data set have Nan entries.SO the next step is just to remove these rows from analysis set "
   ]
  },
  {
   "cell_type": "code",
   "execution_count": 112,
   "id": "6be9009c",
   "metadata": {},
   "outputs": [],
   "source": [
    "df2= df.dropna(axis=0)"
   ]
  },
  {
   "cell_type": "code",
   "execution_count": 113,
   "id": "b62e745d",
   "metadata": {},
   "outputs": [
    {
     "data": {
      "text/plain": [
       "(30162, 13)"
      ]
     },
     "execution_count": 113,
     "metadata": {},
     "output_type": "execute_result"
    }
   ],
   "source": [
    "df2.shape"
   ]
  },
  {
   "cell_type": "markdown",
   "id": "1a601dc1",
   "metadata": {},
   "source": [
    "In begining we had around 32561 rows entries , after removing the un idetified values , there are total 30162 rows with 13 columns"
   ]
  },
  {
   "cell_type": "markdown",
   "id": "d27590fe",
   "metadata": {},
   "source": [
    "Now we have to check the correlation between independent variables if there is any"
   ]
  },
  {
   "cell_type": "code",
   "execution_count": 114,
   "id": "c4893e95",
   "metadata": {},
   "outputs": [],
   "source": [
    "correlation= df2.corr()"
   ]
  },
  {
   "cell_type": "code",
   "execution_count": 115,
   "id": "7db5c74f",
   "metadata": {},
   "outputs": [
    {
     "data": {
      "text/html": [
       "<div>\n",
       "<style scoped>\n",
       "    .dataframe tbody tr th:only-of-type {\n",
       "        vertical-align: middle;\n",
       "    }\n",
       "\n",
       "    .dataframe tbody tr th {\n",
       "        vertical-align: top;\n",
       "    }\n",
       "\n",
       "    .dataframe thead th {\n",
       "        text-align: right;\n",
       "    }\n",
       "</style>\n",
       "<table border=\"1\" class=\"dataframe\">\n",
       "  <thead>\n",
       "    <tr style=\"text-align: right;\">\n",
       "      <th></th>\n",
       "      <th>age</th>\n",
       "      <th>capitalgain</th>\n",
       "      <th>capitalloss</th>\n",
       "      <th>hoursperweek</th>\n",
       "    </tr>\n",
       "  </thead>\n",
       "  <tbody>\n",
       "    <tr>\n",
       "      <th>age</th>\n",
       "      <td>1.000000</td>\n",
       "      <td>0.080154</td>\n",
       "      <td>0.060165</td>\n",
       "      <td>0.101599</td>\n",
       "    </tr>\n",
       "    <tr>\n",
       "      <th>capitalgain</th>\n",
       "      <td>0.080154</td>\n",
       "      <td>1.000000</td>\n",
       "      <td>-0.032229</td>\n",
       "      <td>0.080432</td>\n",
       "    </tr>\n",
       "    <tr>\n",
       "      <th>capitalloss</th>\n",
       "      <td>0.060165</td>\n",
       "      <td>-0.032229</td>\n",
       "      <td>1.000000</td>\n",
       "      <td>0.052417</td>\n",
       "    </tr>\n",
       "    <tr>\n",
       "      <th>hoursperweek</th>\n",
       "      <td>0.101599</td>\n",
       "      <td>0.080432</td>\n",
       "      <td>0.052417</td>\n",
       "      <td>1.000000</td>\n",
       "    </tr>\n",
       "  </tbody>\n",
       "</table>\n",
       "</div>"
      ],
      "text/plain": [
       "                   age  capitalgain  capitalloss  hoursperweek\n",
       "age           1.000000     0.080154     0.060165      0.101599\n",
       "capitalgain   0.080154     1.000000    -0.032229      0.080432\n",
       "capitalloss   0.060165    -0.032229     1.000000      0.052417\n",
       "hoursperweek  0.101599     0.080432     0.052417      1.000000"
      ]
     },
     "execution_count": 115,
     "metadata": {},
     "output_type": "execute_result"
    }
   ],
   "source": [
    "correlation"
   ]
  },
  {
   "cell_type": "markdown",
   "id": "c6c9c884",
   "metadata": {},
   "source": [
    "we can see that the numerical columns do not have very high correlation among themselves. (Corr values are close to 0)"
   ]
  },
  {
   "cell_type": "code",
   "execution_count": 116,
   "id": "e22b192c",
   "metadata": {},
   "outputs": [
    {
     "data": {
      "text/plain": [
       "Index(['age', 'JobType', 'EdType', 'maritalstatus', 'Occupation',\n",
       "       'relationship', 'race', 'gender', 'capitalgain', 'capitalloss',\n",
       "       'hoursperweek', 'nativecountry', 'SalStat'],\n",
       "      dtype='object')"
      ]
     },
     "execution_count": 116,
     "metadata": {},
     "output_type": "execute_result"
    }
   ],
   "source": [
    "# Cross table check for Categorical data\n",
    "df2.columns"
   ]
  },
  {
   "cell_type": "code",
   "execution_count": 117,
   "id": "8e38d5d7",
   "metadata": {},
   "outputs": [
    {
     "data": {
      "text/html": [
       "<div>\n",
       "<style scoped>\n",
       "    .dataframe tbody tr th:only-of-type {\n",
       "        vertical-align: middle;\n",
       "    }\n",
       "\n",
       "    .dataframe tbody tr th {\n",
       "        vertical-align: top;\n",
       "    }\n",
       "\n",
       "    .dataframe thead th {\n",
       "        text-align: right;\n",
       "    }\n",
       "</style>\n",
       "<table border=\"1\" class=\"dataframe\">\n",
       "  <thead>\n",
       "    <tr style=\"text-align: right;\">\n",
       "      <th>SalStat</th>\n",
       "      <th>&lt;=50K</th>\n",
       "      <th>&gt;50K</th>\n",
       "    </tr>\n",
       "    <tr>\n",
       "      <th>JobType</th>\n",
       "      <th></th>\n",
       "      <th></th>\n",
       "    </tr>\n",
       "  </thead>\n",
       "  <tbody>\n",
       "    <tr>\n",
       "      <th>Federal-gov</th>\n",
       "      <td>0.612937</td>\n",
       "      <td>0.387063</td>\n",
       "    </tr>\n",
       "    <tr>\n",
       "      <th>Local-gov</th>\n",
       "      <td>0.705370</td>\n",
       "      <td>0.294630</td>\n",
       "    </tr>\n",
       "    <tr>\n",
       "      <th>Private</th>\n",
       "      <td>0.781208</td>\n",
       "      <td>0.218792</td>\n",
       "    </tr>\n",
       "    <tr>\n",
       "      <th>Self-emp-inc</th>\n",
       "      <td>0.441341</td>\n",
       "      <td>0.558659</td>\n",
       "    </tr>\n",
       "    <tr>\n",
       "      <th>Self-emp-not-inc</th>\n",
       "      <td>0.714286</td>\n",
       "      <td>0.285714</td>\n",
       "    </tr>\n",
       "    <tr>\n",
       "      <th>State-gov</th>\n",
       "      <td>0.731040</td>\n",
       "      <td>0.268960</td>\n",
       "    </tr>\n",
       "    <tr>\n",
       "      <th>Without-pay</th>\n",
       "      <td>1.000000</td>\n",
       "      <td>0.000000</td>\n",
       "    </tr>\n",
       "    <tr>\n",
       "      <th>All</th>\n",
       "      <td>0.751078</td>\n",
       "      <td>0.248922</td>\n",
       "    </tr>\n",
       "  </tbody>\n",
       "</table>\n",
       "</div>"
      ],
      "text/plain": [
       "SalStat               <=50K      >50K\n",
       "JobType                              \n",
       " Federal-gov       0.612937  0.387063\n",
       " Local-gov         0.705370  0.294630\n",
       " Private           0.781208  0.218792\n",
       " Self-emp-inc      0.441341  0.558659\n",
       " Self-emp-not-inc  0.714286  0.285714\n",
       " State-gov         0.731040  0.268960\n",
       " Without-pay       1.000000  0.000000\n",
       "All                0.751078  0.248922"
      ]
     },
     "execution_count": 117,
     "metadata": {},
     "output_type": "execute_result"
    }
   ],
   "source": [
    "#Jobtype vs Salstat\n",
    "\n",
    "job_sal= pd.crosstab(index= df2['JobType'], columns=df2['SalStat'], margins= True, normalize= 'index')\n",
    "job_sal\n"
   ]
  },
  {
   "cell_type": "markdown",
   "id": "2129df39",
   "metadata": {},
   "source": [
    "Except for self employed peoples for all the kind of employed peoples more than half of them, the salary status is <=50K. also, about 75% peoples have salary <=50K"
   ]
  },
  {
   "cell_type": "code",
   "execution_count": 118,
   "id": "7f26f0d7",
   "metadata": {},
   "outputs": [
    {
     "data": {
      "text/html": [
       "<div>\n",
       "<style scoped>\n",
       "    .dataframe tbody tr th:only-of-type {\n",
       "        vertical-align: middle;\n",
       "    }\n",
       "\n",
       "    .dataframe tbody tr th {\n",
       "        vertical-align: top;\n",
       "    }\n",
       "\n",
       "    .dataframe thead th {\n",
       "        text-align: right;\n",
       "    }\n",
       "</style>\n",
       "<table border=\"1\" class=\"dataframe\">\n",
       "  <thead>\n",
       "    <tr style=\"text-align: right;\">\n",
       "      <th>SalStat</th>\n",
       "      <th>&lt;=50K</th>\n",
       "      <th>&gt;50K</th>\n",
       "    </tr>\n",
       "    <tr>\n",
       "      <th>EdType</th>\n",
       "      <th></th>\n",
       "      <th></th>\n",
       "    </tr>\n",
       "  </thead>\n",
       "  <tbody>\n",
       "    <tr>\n",
       "      <th>10th</th>\n",
       "      <td>0.928049</td>\n",
       "      <td>0.071951</td>\n",
       "    </tr>\n",
       "    <tr>\n",
       "      <th>11th</th>\n",
       "      <td>0.943702</td>\n",
       "      <td>0.056298</td>\n",
       "    </tr>\n",
       "    <tr>\n",
       "      <th>12th</th>\n",
       "      <td>0.923077</td>\n",
       "      <td>0.076923</td>\n",
       "    </tr>\n",
       "    <tr>\n",
       "      <th>1st-4th</th>\n",
       "      <td>0.960265</td>\n",
       "      <td>0.039735</td>\n",
       "    </tr>\n",
       "    <tr>\n",
       "      <th>5th-6th</th>\n",
       "      <td>0.958333</td>\n",
       "      <td>0.041667</td>\n",
       "    </tr>\n",
       "    <tr>\n",
       "      <th>7th-8th</th>\n",
       "      <td>0.937163</td>\n",
       "      <td>0.062837</td>\n",
       "    </tr>\n",
       "    <tr>\n",
       "      <th>9th</th>\n",
       "      <td>0.945055</td>\n",
       "      <td>0.054945</td>\n",
       "    </tr>\n",
       "    <tr>\n",
       "      <th>Assoc-acdm</th>\n",
       "      <td>0.746032</td>\n",
       "      <td>0.253968</td>\n",
       "    </tr>\n",
       "    <tr>\n",
       "      <th>Assoc-voc</th>\n",
       "      <td>0.736802</td>\n",
       "      <td>0.263198</td>\n",
       "    </tr>\n",
       "    <tr>\n",
       "      <th>Bachelors</th>\n",
       "      <td>0.578509</td>\n",
       "      <td>0.421491</td>\n",
       "    </tr>\n",
       "    <tr>\n",
       "      <th>Doctorate</th>\n",
       "      <td>0.253333</td>\n",
       "      <td>0.746667</td>\n",
       "    </tr>\n",
       "    <tr>\n",
       "      <th>HS-grad</th>\n",
       "      <td>0.835671</td>\n",
       "      <td>0.164329</td>\n",
       "    </tr>\n",
       "    <tr>\n",
       "      <th>Masters</th>\n",
       "      <td>0.435771</td>\n",
       "      <td>0.564229</td>\n",
       "    </tr>\n",
       "    <tr>\n",
       "      <th>Preschool</th>\n",
       "      <td>1.000000</td>\n",
       "      <td>0.000000</td>\n",
       "    </tr>\n",
       "    <tr>\n",
       "      <th>Prof-school</th>\n",
       "      <td>0.250923</td>\n",
       "      <td>0.749077</td>\n",
       "    </tr>\n",
       "    <tr>\n",
       "      <th>Some-college</th>\n",
       "      <td>0.799940</td>\n",
       "      <td>0.200060</td>\n",
       "    </tr>\n",
       "    <tr>\n",
       "      <th>All</th>\n",
       "      <td>0.751078</td>\n",
       "      <td>0.248922</td>\n",
       "    </tr>\n",
       "  </tbody>\n",
       "</table>\n",
       "</div>"
      ],
      "text/plain": [
       "SalStat           <=50K      >50K\n",
       "EdType                           \n",
       " 10th          0.928049  0.071951\n",
       " 11th          0.943702  0.056298\n",
       " 12th          0.923077  0.076923\n",
       " 1st-4th       0.960265  0.039735\n",
       " 5th-6th       0.958333  0.041667\n",
       " 7th-8th       0.937163  0.062837\n",
       " 9th           0.945055  0.054945\n",
       " Assoc-acdm    0.746032  0.253968\n",
       " Assoc-voc     0.736802  0.263198\n",
       " Bachelors     0.578509  0.421491\n",
       " Doctorate     0.253333  0.746667\n",
       " HS-grad       0.835671  0.164329\n",
       " Masters       0.435771  0.564229\n",
       " Preschool     1.000000  0.000000\n",
       " Prof-school   0.250923  0.749077\n",
       " Some-college  0.799940  0.200060\n",
       "All            0.751078  0.248922"
      ]
     },
     "execution_count": 118,
     "metadata": {},
     "output_type": "execute_result"
    }
   ],
   "source": [
    "#Education type vs Salstat\n",
    "\n",
    "ed_sal= pd.crosstab(index= df2['EdType'], columns=df2['SalStat'], margins= True, normalize= 'index')\n",
    "ed_sal\n"
   ]
  },
  {
   "cell_type": "markdown",
   "id": "22b17b04",
   "metadata": {},
   "source": [
    "Education level has an impact on the salary status of peoples. Highly educated persons are having higher % in >50K bracket"
   ]
  },
  {
   "cell_type": "code",
   "execution_count": 119,
   "id": "34fb973b",
   "metadata": {},
   "outputs": [
    {
     "data": {
      "text/html": [
       "<div>\n",
       "<style scoped>\n",
       "    .dataframe tbody tr th:only-of-type {\n",
       "        vertical-align: middle;\n",
       "    }\n",
       "\n",
       "    .dataframe tbody tr th {\n",
       "        vertical-align: top;\n",
       "    }\n",
       "\n",
       "    .dataframe thead th {\n",
       "        text-align: right;\n",
       "    }\n",
       "</style>\n",
       "<table border=\"1\" class=\"dataframe\">\n",
       "  <thead>\n",
       "    <tr style=\"text-align: right;\">\n",
       "      <th>SalStat</th>\n",
       "      <th>&lt;=50K</th>\n",
       "      <th>&gt;50K</th>\n",
       "    </tr>\n",
       "    <tr>\n",
       "      <th>maritalstatus</th>\n",
       "      <th></th>\n",
       "      <th></th>\n",
       "    </tr>\n",
       "  </thead>\n",
       "  <tbody>\n",
       "    <tr>\n",
       "      <th>Divorced</th>\n",
       "      <td>0.892738</td>\n",
       "      <td>0.107262</td>\n",
       "    </tr>\n",
       "    <tr>\n",
       "      <th>Married-AF-spouse</th>\n",
       "      <td>0.523810</td>\n",
       "      <td>0.476190</td>\n",
       "    </tr>\n",
       "    <tr>\n",
       "      <th>Married-civ-spouse</th>\n",
       "      <td>0.545041</td>\n",
       "      <td>0.454959</td>\n",
       "    </tr>\n",
       "    <tr>\n",
       "      <th>Married-spouse-absent</th>\n",
       "      <td>0.916216</td>\n",
       "      <td>0.083784</td>\n",
       "    </tr>\n",
       "    <tr>\n",
       "      <th>Never-married</th>\n",
       "      <td>0.951676</td>\n",
       "      <td>0.048324</td>\n",
       "    </tr>\n",
       "    <tr>\n",
       "      <th>Separated</th>\n",
       "      <td>0.929712</td>\n",
       "      <td>0.070288</td>\n",
       "    </tr>\n",
       "    <tr>\n",
       "      <th>Widowed</th>\n",
       "      <td>0.903265</td>\n",
       "      <td>0.096735</td>\n",
       "    </tr>\n",
       "    <tr>\n",
       "      <th>All</th>\n",
       "      <td>0.751078</td>\n",
       "      <td>0.248922</td>\n",
       "    </tr>\n",
       "  </tbody>\n",
       "</table>\n",
       "</div>"
      ],
      "text/plain": [
       "SalStat                    <=50K      >50K\n",
       "maritalstatus                             \n",
       " Divorced               0.892738  0.107262\n",
       " Married-AF-spouse      0.523810  0.476190\n",
       " Married-civ-spouse     0.545041  0.454959\n",
       " Married-spouse-absent  0.916216  0.083784\n",
       " Never-married          0.951676  0.048324\n",
       " Separated              0.929712  0.070288\n",
       " Widowed                0.903265  0.096735\n",
       "All                     0.751078  0.248922"
      ]
     },
     "execution_count": 119,
     "metadata": {},
     "output_type": "execute_result"
    }
   ],
   "source": [
    "#Marital state vs Salstat\n",
    "\n",
    "ms_sal= pd.crosstab(index= df2['maritalstatus'], columns=df2['SalStat'], margins= True, normalize= 'index')\n",
    "ms_sal\n"
   ]
  },
  {
   "cell_type": "markdown",
   "id": "d8ce79b0",
   "metadata": {},
   "source": [
    "most of the people whse salary is >50K are are married."
   ]
  },
  {
   "cell_type": "code",
   "execution_count": 120,
   "id": "3bb7cc1b",
   "metadata": {},
   "outputs": [
    {
     "data": {
      "text/html": [
       "<div>\n",
       "<style scoped>\n",
       "    .dataframe tbody tr th:only-of-type {\n",
       "        vertical-align: middle;\n",
       "    }\n",
       "\n",
       "    .dataframe tbody tr th {\n",
       "        vertical-align: top;\n",
       "    }\n",
       "\n",
       "    .dataframe thead th {\n",
       "        text-align: right;\n",
       "    }\n",
       "</style>\n",
       "<table border=\"1\" class=\"dataframe\">\n",
       "  <thead>\n",
       "    <tr style=\"text-align: right;\">\n",
       "      <th>SalStat</th>\n",
       "      <th>&lt;=50K</th>\n",
       "      <th>&gt;50K</th>\n",
       "    </tr>\n",
       "    <tr>\n",
       "      <th>Occupation</th>\n",
       "      <th></th>\n",
       "      <th></th>\n",
       "    </tr>\n",
       "  </thead>\n",
       "  <tbody>\n",
       "    <tr>\n",
       "      <th>Adm-clerical</th>\n",
       "      <td>0.866165</td>\n",
       "      <td>0.133835</td>\n",
       "    </tr>\n",
       "    <tr>\n",
       "      <th>Armed-Forces</th>\n",
       "      <td>0.888889</td>\n",
       "      <td>0.111111</td>\n",
       "    </tr>\n",
       "    <tr>\n",
       "      <th>Craft-repair</th>\n",
       "      <td>0.774690</td>\n",
       "      <td>0.225310</td>\n",
       "    </tr>\n",
       "    <tr>\n",
       "      <th>Exec-managerial</th>\n",
       "      <td>0.514780</td>\n",
       "      <td>0.485220</td>\n",
       "    </tr>\n",
       "    <tr>\n",
       "      <th>Farming-fishing</th>\n",
       "      <td>0.883721</td>\n",
       "      <td>0.116279</td>\n",
       "    </tr>\n",
       "    <tr>\n",
       "      <th>Handlers-cleaners</th>\n",
       "      <td>0.938519</td>\n",
       "      <td>0.061481</td>\n",
       "    </tr>\n",
       "    <tr>\n",
       "      <th>Machine-op-inspct</th>\n",
       "      <td>0.875381</td>\n",
       "      <td>0.124619</td>\n",
       "    </tr>\n",
       "    <tr>\n",
       "      <th>Other-service</th>\n",
       "      <td>0.958904</td>\n",
       "      <td>0.041096</td>\n",
       "    </tr>\n",
       "    <tr>\n",
       "      <th>Priv-house-serv</th>\n",
       "      <td>0.993007</td>\n",
       "      <td>0.006993</td>\n",
       "    </tr>\n",
       "    <tr>\n",
       "      <th>Prof-specialty</th>\n",
       "      <td>0.551511</td>\n",
       "      <td>0.448489</td>\n",
       "    </tr>\n",
       "    <tr>\n",
       "      <th>Protective-serv</th>\n",
       "      <td>0.673913</td>\n",
       "      <td>0.326087</td>\n",
       "    </tr>\n",
       "    <tr>\n",
       "      <th>Sales</th>\n",
       "      <td>0.729353</td>\n",
       "      <td>0.270647</td>\n",
       "    </tr>\n",
       "    <tr>\n",
       "      <th>Tech-support</th>\n",
       "      <td>0.695175</td>\n",
       "      <td>0.304825</td>\n",
       "    </tr>\n",
       "    <tr>\n",
       "      <th>Transport-moving</th>\n",
       "      <td>0.797074</td>\n",
       "      <td>0.202926</td>\n",
       "    </tr>\n",
       "    <tr>\n",
       "      <th>All</th>\n",
       "      <td>0.751078</td>\n",
       "      <td>0.248922</td>\n",
       "    </tr>\n",
       "  </tbody>\n",
       "</table>\n",
       "</div>"
      ],
      "text/plain": [
       "SalStat                <=50K      >50K\n",
       "Occupation                            \n",
       " Adm-clerical       0.866165  0.133835\n",
       " Armed-Forces       0.888889  0.111111\n",
       " Craft-repair       0.774690  0.225310\n",
       " Exec-managerial    0.514780  0.485220\n",
       " Farming-fishing    0.883721  0.116279\n",
       " Handlers-cleaners  0.938519  0.061481\n",
       " Machine-op-inspct  0.875381  0.124619\n",
       " Other-service      0.958904  0.041096\n",
       " Priv-house-serv    0.993007  0.006993\n",
       " Prof-specialty     0.551511  0.448489\n",
       " Protective-serv    0.673913  0.326087\n",
       " Sales              0.729353  0.270647\n",
       " Tech-support       0.695175  0.304825\n",
       " Transport-moving   0.797074  0.202926\n",
       "All                 0.751078  0.248922"
      ]
     },
     "execution_count": 120,
     "metadata": {},
     "output_type": "execute_result"
    }
   ],
   "source": [
    "#Occupation vs Salstat\n",
    "\n",
    "occ_sal= pd.crosstab(index= df2['Occupation'], columns=df2['SalStat'], margins= True, normalize= 'index')\n",
    "occ_sal\n"
   ]
  },
  {
   "cell_type": "code",
   "execution_count": 121,
   "id": "7f075827",
   "metadata": {},
   "outputs": [
    {
     "ename": "SyntaxError",
     "evalue": "invalid syntax (3832118621.py, line 1)",
     "output_type": "error",
     "traceback": [
      "\u001b[1;36m  Input \u001b[1;32mIn [121]\u001b[1;36m\u001b[0m\n\u001b[1;33m    the people who make >50K are highly professional posts as managers, prof.\u001b[0m\n\u001b[1;37m        ^\u001b[0m\n\u001b[1;31mSyntaxError\u001b[0m\u001b[1;31m:\u001b[0m invalid syntax\n"
     ]
    }
   ],
   "source": [
    "the people who make >50K are highly professional posts as managers, prof."
   ]
  },
  {
   "cell_type": "code",
   "execution_count": 122,
   "id": "14879f39",
   "metadata": {},
   "outputs": [
    {
     "data": {
      "text/html": [
       "<div>\n",
       "<style scoped>\n",
       "    .dataframe tbody tr th:only-of-type {\n",
       "        vertical-align: middle;\n",
       "    }\n",
       "\n",
       "    .dataframe tbody tr th {\n",
       "        vertical-align: top;\n",
       "    }\n",
       "\n",
       "    .dataframe thead th {\n",
       "        text-align: right;\n",
       "    }\n",
       "</style>\n",
       "<table border=\"1\" class=\"dataframe\">\n",
       "  <thead>\n",
       "    <tr style=\"text-align: right;\">\n",
       "      <th>SalStat</th>\n",
       "      <th>&lt;=50K</th>\n",
       "      <th>&gt;50K</th>\n",
       "    </tr>\n",
       "    <tr>\n",
       "      <th>relationship</th>\n",
       "      <th></th>\n",
       "      <th></th>\n",
       "    </tr>\n",
       "  </thead>\n",
       "  <tbody>\n",
       "    <tr>\n",
       "      <th>Husband</th>\n",
       "      <td>0.544331</td>\n",
       "      <td>0.455669</td>\n",
       "    </tr>\n",
       "    <tr>\n",
       "      <th>Not-in-family</th>\n",
       "      <td>0.893477</td>\n",
       "      <td>0.106523</td>\n",
       "    </tr>\n",
       "    <tr>\n",
       "      <th>Other-relative</th>\n",
       "      <td>0.960630</td>\n",
       "      <td>0.039370</td>\n",
       "    </tr>\n",
       "    <tr>\n",
       "      <th>Own-child</th>\n",
       "      <td>0.985670</td>\n",
       "      <td>0.014330</td>\n",
       "    </tr>\n",
       "    <tr>\n",
       "      <th>Unmarried</th>\n",
       "      <td>0.933686</td>\n",
       "      <td>0.066314</td>\n",
       "    </tr>\n",
       "    <tr>\n",
       "      <th>Wife</th>\n",
       "      <td>0.506401</td>\n",
       "      <td>0.493599</td>\n",
       "    </tr>\n",
       "    <tr>\n",
       "      <th>All</th>\n",
       "      <td>0.751078</td>\n",
       "      <td>0.248922</td>\n",
       "    </tr>\n",
       "  </tbody>\n",
       "</table>\n",
       "</div>"
      ],
      "text/plain": [
       "SalStat             <=50K      >50K\n",
       "relationship                       \n",
       " Husband         0.544331  0.455669\n",
       " Not-in-family   0.893477  0.106523\n",
       " Other-relative  0.960630  0.039370\n",
       " Own-child       0.985670  0.014330\n",
       " Unmarried       0.933686  0.066314\n",
       " Wife            0.506401  0.493599\n",
       "All              0.751078  0.248922"
      ]
     },
     "execution_count": 122,
     "metadata": {},
     "output_type": "execute_result"
    }
   ],
   "source": [
    "#relationship vs Salstat\n",
    "\n",
    "rel_sal= pd.crosstab(index= df2['relationship'], columns=df2['SalStat'], margins= True, normalize= 'index')\n",
    "rel_sal\n"
   ]
  },
  {
   "cell_type": "code",
   "execution_count": 123,
   "id": "49bce3f0",
   "metadata": {},
   "outputs": [
    {
     "data": {
      "text/html": [
       "<div>\n",
       "<style scoped>\n",
       "    .dataframe tbody tr th:only-of-type {\n",
       "        vertical-align: middle;\n",
       "    }\n",
       "\n",
       "    .dataframe tbody tr th {\n",
       "        vertical-align: top;\n",
       "    }\n",
       "\n",
       "    .dataframe thead th {\n",
       "        text-align: right;\n",
       "    }\n",
       "</style>\n",
       "<table border=\"1\" class=\"dataframe\">\n",
       "  <thead>\n",
       "    <tr style=\"text-align: right;\">\n",
       "      <th>SalStat</th>\n",
       "      <th>&lt;=50K</th>\n",
       "      <th>&gt;50K</th>\n",
       "    </tr>\n",
       "    <tr>\n",
       "      <th>race</th>\n",
       "      <th></th>\n",
       "      <th></th>\n",
       "    </tr>\n",
       "  </thead>\n",
       "  <tbody>\n",
       "    <tr>\n",
       "      <th>Amer-Indian-Eskimo</th>\n",
       "      <td>0.881119</td>\n",
       "      <td>0.118881</td>\n",
       "    </tr>\n",
       "    <tr>\n",
       "      <th>Asian-Pac-Islander</th>\n",
       "      <td>0.722905</td>\n",
       "      <td>0.277095</td>\n",
       "    </tr>\n",
       "    <tr>\n",
       "      <th>Black</th>\n",
       "      <td>0.870075</td>\n",
       "      <td>0.129925</td>\n",
       "    </tr>\n",
       "    <tr>\n",
       "      <th>Other</th>\n",
       "      <td>0.909091</td>\n",
       "      <td>0.090909</td>\n",
       "    </tr>\n",
       "    <tr>\n",
       "      <th>White</th>\n",
       "      <td>0.736282</td>\n",
       "      <td>0.263718</td>\n",
       "    </tr>\n",
       "    <tr>\n",
       "      <th>All</th>\n",
       "      <td>0.751078</td>\n",
       "      <td>0.248922</td>\n",
       "    </tr>\n",
       "  </tbody>\n",
       "</table>\n",
       "</div>"
      ],
      "text/plain": [
       "SalStat                 <=50K      >50K\n",
       "race                                   \n",
       " Amer-Indian-Eskimo  0.881119  0.118881\n",
       " Asian-Pac-Islander  0.722905  0.277095\n",
       " Black               0.870075  0.129925\n",
       " Other               0.909091  0.090909\n",
       " White               0.736282  0.263718\n",
       "All                  0.751078  0.248922"
      ]
     },
     "execution_count": 123,
     "metadata": {},
     "output_type": "execute_result"
    }
   ],
   "source": [
    "#race vs Salstat\n",
    "\n",
    "race_sal= pd.crosstab(index= df2['race'], columns=df2['SalStat'], margins= True, normalize= 'index')\n",
    "race_sal\n"
   ]
  },
  {
   "cell_type": "code",
   "execution_count": 124,
   "id": "04f39699",
   "metadata": {},
   "outputs": [
    {
     "data": {
      "text/html": [
       "<div>\n",
       "<style scoped>\n",
       "    .dataframe tbody tr th:only-of-type {\n",
       "        vertical-align: middle;\n",
       "    }\n",
       "\n",
       "    .dataframe tbody tr th {\n",
       "        vertical-align: top;\n",
       "    }\n",
       "\n",
       "    .dataframe thead th {\n",
       "        text-align: right;\n",
       "    }\n",
       "</style>\n",
       "<table border=\"1\" class=\"dataframe\">\n",
       "  <thead>\n",
       "    <tr style=\"text-align: right;\">\n",
       "      <th>SalStat</th>\n",
       "      <th>&lt;=50K</th>\n",
       "      <th>&gt;50K</th>\n",
       "    </tr>\n",
       "    <tr>\n",
       "      <th>gender</th>\n",
       "      <th></th>\n",
       "      <th></th>\n",
       "    </tr>\n",
       "  </thead>\n",
       "  <tbody>\n",
       "    <tr>\n",
       "      <th>Female</th>\n",
       "      <td>0.886322</td>\n",
       "      <td>0.113678</td>\n",
       "    </tr>\n",
       "    <tr>\n",
       "      <th>Male</th>\n",
       "      <td>0.686163</td>\n",
       "      <td>0.313837</td>\n",
       "    </tr>\n",
       "    <tr>\n",
       "      <th>All</th>\n",
       "      <td>0.751078</td>\n",
       "      <td>0.248922</td>\n",
       "    </tr>\n",
       "  </tbody>\n",
       "</table>\n",
       "</div>"
      ],
      "text/plain": [
       "SalStat     <=50K      >50K\n",
       "gender                     \n",
       " Female  0.886322  0.113678\n",
       " Male    0.686163  0.313837\n",
       "All      0.751078  0.248922"
      ]
     },
     "execution_count": 124,
     "metadata": {},
     "output_type": "execute_result"
    }
   ],
   "source": [
    "#gender vs Salstat\n",
    "\n",
    "gen_sal= pd.crosstab(index= df2['gender'], columns=df2['SalStat'], margins= True, normalize= 'index')\n",
    "gen_sal\n"
   ]
  },
  {
   "cell_type": "markdown",
   "id": "30cf593c",
   "metadata": {},
   "source": [
    "So, Males have higher proportions than females in >50K salary bracket"
   ]
  },
  {
   "cell_type": "code",
   "execution_count": 125,
   "id": "190e9f3f",
   "metadata": {},
   "outputs": [
    {
     "name": "stderr",
     "output_type": "stream",
     "text": [
      "C:\\Users\\psoms\\anaconda3\\lib\\site-packages\\seaborn\\distributions.py:2619: FutureWarning: `distplot` is a deprecated function and will be removed in a future version. Please adapt your code to use either `displot` (a figure-level function with similar flexibility) or `histplot` (an axes-level function for histograms).\n",
      "  warnings.warn(msg, FutureWarning)\n"
     ]
    },
    {
     "data": {
      "text/plain": [
       "<AxesSubplot:xlabel='age'>"
      ]
     },
     "execution_count": 125,
     "metadata": {},
     "output_type": "execute_result"
    },
    {
     "data": {
      "image/png": "[encoded data removed]",
      "text/plain": [
       "<Figure size 432x288 with 1 Axes>"
      ]
     },
     "metadata": {
      "needs_background": "light"
     },
     "output_type": "display_data"
    }
   ],
   "source": [
    "# Data visualisation \n",
    "sns.distplot(df2['age'], bins=10, kde=False)"
   ]
  },
  {
   "cell_type": "markdown",
   "id": "0b92a7ce",
   "metadata": {},
   "source": [
    "So, most of the people are in age group 20-45. (mostly young people)"
   ]
  },
  {
   "cell_type": "code",
   "execution_count": 126,
   "id": "db6f2de6",
   "metadata": {},
   "outputs": [
    {
     "name": "stderr",
     "output_type": "stream",
     "text": [
      "C:\\Users\\psoms\\anaconda3\\lib\\site-packages\\seaborn\\_decorators.py:36: FutureWarning: Pass the following variables as keyword args: x, y. From version 0.12, the only valid positional argument will be `data`, and passing other arguments without an explicit keyword will result in an error or misinterpretation.\n",
      "  warnings.warn(\n"
     ]
    },
    {
     "data": {
      "text/plain": [
       "<AxesSubplot:xlabel='SalStat', ylabel='age'>"
      ]
     },
     "execution_count": 126,
     "metadata": {},
     "output_type": "execute_result"
    },
    {
     "data": {
      "image/png": "[encoded data removed]",
      "text/plain": [
       "<Figure size 432x288 with 1 Axes>"
      ]
     },
     "metadata": {
      "needs_background": "light"
     },
     "output_type": "display_data"
    }
   ],
   "source": [
    "sns.boxplot('SalStat', 'age', data=df2)"
   ]
  },
  {
   "cell_type": "code",
   "execution_count": 127,
   "id": "69276fad",
   "metadata": {},
   "outputs": [
    {
     "data": {
      "text/plain": [
       "SalStat\n",
       " <=50K    34.0\n",
       " >50K     43.0\n",
       "Name: age, dtype: float64"
      ]
     },
     "execution_count": 127,
     "metadata": {},
     "output_type": "execute_result"
    }
   ],
   "source": [
    "df2.groupby('SalStat')['age'].median()"
   ]
  },
  {
   "cell_type": "markdown",
   "id": "033076c7",
   "metadata": {},
   "source": [
    "So, people with age 25-35, more likley to earn <=50K"
   ]
  },
  {
   "cell_type": "markdown",
   "id": "4b463e1a",
   "metadata": {},
   "source": [
    "whereas people with age 35-50, more likley to earn >50K salary"
   ]
  },
  {
   "cell_type": "code",
   "execution_count": 128,
   "id": "3e1a4b8a",
   "metadata": {},
   "outputs": [
    {
     "name": "stderr",
     "output_type": "stream",
     "text": [
      "C:\\Users\\psoms\\anaconda3\\lib\\site-packages\\seaborn\\distributions.py:2619: FutureWarning: `distplot` is a deprecated function and will be removed in a future version. Please adapt your code to use either `displot` (a figure-level function with similar flexibility) or `histplot` (an axes-level function for histograms).\n",
      "  warnings.warn(msg, FutureWarning)\n"
     ]
    },
    {
     "data": {
      "text/plain": [
       "<AxesSubplot:xlabel='capitalgain'>"
      ]
     },
     "execution_count": 128,
     "metadata": {},
     "output_type": "execute_result"
    },
    {
     "data": {
      "image/png": "[encoded data removed]",
      "text/plain": [
       "<Figure size 432x288 with 1 Axes>"
      ]
     },
     "metadata": {
      "needs_background": "light"
     },
     "output_type": "display_data"
    }
   ],
   "source": [
    "#Capital gain \n",
    "\n",
    "sns.distplot(df2['capitalgain'], bins=10, kde=False)"
   ]
  },
  {
   "cell_type": "code",
   "execution_count": 129,
   "id": "5c291f4b",
   "metadata": {},
   "outputs": [
    {
     "data": {
      "text/plain": [
       "<AxesSubplot:xlabel='capitalloss'>"
      ]
     },
     "execution_count": 129,
     "metadata": {},
     "output_type": "execute_result"
    },
    {
     "data": {
      "image/png": "[encoded data removed]",
      "text/plain": [
       "<Figure size 432x288 with 1 Axes>"
      ]
     },
     "metadata": {
      "needs_background": "light"
     },
     "output_type": "display_data"
    }
   ],
   "source": [
    "#Capital loss \n",
    "\n",
    "sns.distplot(df2['capitalloss'], bins=10, kde=False)"
   ]
  },
  {
   "cell_type": "markdown",
   "id": "c86192f7",
   "metadata": {},
   "source": [
    "So, More than 90% entris in Capital gain and Capital Loss are Zero"
   ]
  },
  {
   "cell_type": "code",
   "execution_count": 130,
   "id": "55bab5c4",
   "metadata": {},
   "outputs": [
    {
     "name": "stderr",
     "output_type": "stream",
     "text": [
      "C:\\Users\\psoms\\anaconda3\\lib\\site-packages\\seaborn\\_decorators.py:36: FutureWarning: Pass the following variables as keyword args: x, y. From version 0.12, the only valid positional argument will be `data`, and passing other arguments without an explicit keyword will result in an error or misinterpretation.\n",
      "  warnings.warn(\n"
     ]
    },
    {
     "data": {
      "text/plain": [
       "<AxesSubplot:xlabel='SalStat', ylabel='hoursperweek'>"
      ]
     },
     "execution_count": 130,
     "metadata": {},
     "output_type": "execute_result"
    },
    {
     "data": {
      "image/png": "[encoded data removed]",
      "text/plain": [
       "<Figure size 1080x576 with 1 Axes>"
      ]
     },
     "metadata": {
      "needs_background": "light"
     },
     "output_type": "display_data"
    }
   ],
   "source": [
    "import matplotlib.pyplot as plt\n",
    "plt.figure(figsize=(15,8))\n",
    "sns.boxplot('SalStat', 'hoursperweek', data=df2)"
   ]
  },
  {
   "cell_type": "markdown",
   "id": "43ab445e",
   "metadata": {},
   "source": [
    "From aboive it s clearly visible that those who make >50K are more likely to work 40-50 hours in a week"
   ]
  },
  {
   "cell_type": "code",
   "execution_count": null,
   "id": "fdb138ec",
   "metadata": {},
   "outputs": [],
   "source": []
  },
  {
   "cell_type": "code",
   "execution_count": 105,
   "id": "8ca9cce7",
   "metadata": {},
   "outputs": [],
   "source": [
    "#Logistic Regression"
   ]
  },
  {
   "cell_type": "code",
   "execution_count": 131,
   "id": "566e9671",
   "metadata": {},
   "outputs": [
    {
     "data": {
      "text/plain": [
       "array([' <=50K', ' >50K'], dtype=object)"
      ]
     },
     "execution_count": 131,
     "metadata": {},
     "output_type": "execute_result"
    }
   ],
   "source": [
    "df2['SalStat'].unique()"
   ]
  },
  {
   "cell_type": "code",
   "execution_count": null,
   "id": "938a7708",
   "metadata": {},
   "outputs": [],
   "source": []
  },
  {
   "cell_type": "code",
   "execution_count": 132,
   "id": "e10216c1",
   "metadata": {},
   "outputs": [
    {
     "name": "stderr",
     "output_type": "stream",
     "text": [
      "C:\\Users\\psoms\\AppData\\Local\\Temp\\ipykernel_17244\\3932391978.py:3: SettingWithCopyWarning: \n",
      "A value is trying to be set on a copy of a slice from a DataFrame.\n",
      "Try using .loc[row_indexer,col_indexer] = value instead\n",
      "\n",
      "See the caveats in the documentation: https://pandas.pydata.org/pandas-docs/stable/user_guide/indexing.html#returning-a-view-versus-a-copy\n",
      "  df2['SalStat']= df2['SalStat'].map({' <=50K':0, ' >50K':1})\n"
     ]
    }
   ],
   "source": [
    "#Reindexing the salary status names to 0 and 1\n",
    "\n",
    "df2['SalStat']= df2['SalStat'].map({' <=50K':0, ' >50K':1})\n",
    "\n"
   ]
  },
  {
   "cell_type": "code",
   "execution_count": 133,
   "id": "b781eae5",
   "metadata": {},
   "outputs": [
    {
     "data": {
      "text/plain": [
       "array([0, 1], dtype=int64)"
      ]
     },
     "execution_count": 133,
     "metadata": {},
     "output_type": "execute_result"
    }
   ],
   "source": [
    "df2['SalStat'].unique()"
   ]
  },
  {
   "cell_type": "code",
   "execution_count": 135,
   "id": "b80dd896",
   "metadata": {},
   "outputs": [],
   "source": [
    "#creating Dummy variables\n",
    "new_data=pd.get_dummies(df2, drop_first=True)"
   ]
  },
  {
   "cell_type": "code",
   "execution_count": 139,
   "id": "5d33eeb6",
   "metadata": {},
   "outputs": [],
   "source": [
    "#storing the columns names\n",
    "\n",
    "columns=list(new_data.columns)\n",
    "#columns"
   ]
  },
  {
   "cell_type": "code",
   "execution_count": 140,
   "id": "7b21fc71",
   "metadata": {},
   "outputs": [],
   "source": [
    "#separating the input column names from data\n",
    "features= list(set(columns) - set(['SalStat']))\n",
    "#features"
   ]
  },
  {
   "cell_type": "code",
   "execution_count": 143,
   "id": "ded39994",
   "metadata": {},
   "outputs": [],
   "source": [
    "# Storing the output values in y\n",
    "\n",
    "y=new_data['SalStat'].values\n"
   ]
  },
  {
   "cell_type": "code",
   "execution_count": 144,
   "id": "7e63e35a",
   "metadata": {},
   "outputs": [],
   "source": [
    "#storing the input features\n",
    "\n",
    "x=new_data[features].values\n"
   ]
  },
  {
   "cell_type": "code",
   "execution_count": 145,
   "id": "5abde06d",
   "metadata": {},
   "outputs": [
    {
     "data": {
      "text/plain": [
       "(30162, 94)"
      ]
     },
     "execution_count": 145,
     "metadata": {},
     "output_type": "execute_result"
    }
   ],
   "source": [
    "x.shape"
   ]
  },
  {
   "cell_type": "code",
   "execution_count": 146,
   "id": "1ff37a09",
   "metadata": {},
   "outputs": [
    {
     "data": {
      "text/plain": [
       "(30162,)"
      ]
     },
     "execution_count": 146,
     "metadata": {},
     "output_type": "execute_result"
    }
   ],
   "source": [
    "y.shape"
   ]
  },
  {
   "cell_type": "markdown",
   "id": "5872d91a",
   "metadata": {},
   "source": [
    "## Logistic Regression"
   ]
  },
  {
   "cell_type": "code",
   "execution_count": 157,
   "id": "0cdd0947",
   "metadata": {},
   "outputs": [],
   "source": [
    "#importing libraries for Logistic regression, train test split\n",
    "from sklearn.model_selection import train_test_split\n",
    "from sklearn.linear_model import LogisticRegression\n",
    "from sklearn.metrics import accuracy_score, confusion_matrix\n",
    "from sklearn import preprocessing\n"
   ]
  },
  {
   "cell_type": "code",
   "execution_count": 158,
   "id": "6fe07205",
   "metadata": {},
   "outputs": [],
   "source": [
    "scaler = preprocessing.StandardScaler().fit(x)\n",
    "x_scaled = scaler.transform(x)"
   ]
  },
  {
   "cell_type": "code",
   "execution_count": 159,
   "id": "0ee08f2b",
   "metadata": {},
   "outputs": [],
   "source": [
    "#Spliting the variables in to train test \n",
    "\n",
    "train_x, test_x, train_y, test_y = train_test_split(x_scaled, y, test_size=0.3, random_state=99)\n"
   ]
  },
  {
   "cell_type": "code",
   "execution_count": 160,
   "id": "ccc446db",
   "metadata": {},
   "outputs": [
    {
     "data": {
      "text/plain": [
       "((21113, 94), (21113,))"
      ]
     },
     "execution_count": 160,
     "metadata": {},
     "output_type": "execute_result"
    }
   ],
   "source": [
    "train_x.shape, train_y.shape"
   ]
  },
  {
   "cell_type": "code",
   "execution_count": 161,
   "id": "687d4fae",
   "metadata": {},
   "outputs": [
    {
     "data": {
      "text/plain": [
       "((9049, 94), (9049,))"
      ]
     },
     "execution_count": 161,
     "metadata": {},
     "output_type": "execute_result"
    }
   ],
   "source": [
    "test_x.shape, test_y.shape"
   ]
  },
  {
   "cell_type": "code",
   "execution_count": 162,
   "id": "58d0e2d6",
   "metadata": {},
   "outputs": [],
   "source": [
    "# Model instance\n",
    "lreg= LogisticRegression()"
   ]
  },
  {
   "cell_type": "code",
   "execution_count": 163,
   "id": "2d06c447",
   "metadata": {},
   "outputs": [
    {
     "data": {
      "text/plain": [
       "LogisticRegression()"
      ]
     },
     "execution_count": 163,
     "metadata": {},
     "output_type": "execute_result"
    }
   ],
   "source": [
    "#fitting for x y training data\n",
    "\n",
    "lreg.fit(train_x, train_y)\n"
   ]
  },
  {
   "cell_type": "code",
   "execution_count": 164,
   "id": "f407dbce",
   "metadata": {},
   "outputs": [
    {
     "data": {
      "text/plain": [
       "array([[-8.43520779e-02, -2.62477997e-02,  6.25900926e-02,\n",
       "        -2.05132755e-01, -7.02932746e-02,  6.88106761e-01,\n",
       "        -2.95669406e-01,  1.34637977e-02, -9.01654046e-03,\n",
       "        -2.88869556e-02, -8.81758485e-02, -6.83572965e-02,\n",
       "        -1.64967044e-02,  1.69662399e-01, -4.71381883e-01,\n",
       "        -4.95366921e-02,  2.67215774e-01, -8.01631141e-02,\n",
       "        -1.20029373e-01, -2.67227513e-02, -3.23841444e-02,\n",
       "        -1.51139555e-01,  7.47537122e-02, -2.64706887e-01,\n",
       "         7.32245034e-02, -1.83386571e-01, -2.46559370e-01,\n",
       "        -3.66643273e-02,  4.12200166e-01, -8.27336414e-02,\n",
       "         4.25603409e-01, -5.41212695e-02, -8.42820147e-02,\n",
       "        -3.92667860e-01, -1.60956024e-01, -5.54899457e-02,\n",
       "        -2.38110312e-01, -1.32833279e-01, -3.17309642e-02,\n",
       "        -3.45667905e-02, -1.94919349e-01,  1.22751263e-01,\n",
       "        -2.84678900e-02,  1.35938705e-02, -1.75420563e-01,\n",
       "        -3.43580175e-02,  2.32822317e+00,  3.32772645e-01,\n",
       "         8.51610124e-02,  1.21464438e-02, -2.36411958e-01,\n",
       "        -3.33963972e-02, -1.90086274e-02,  2.08562849e-01,\n",
       "        -4.58982276e-02,  6.35119729e-04, -4.42857175e-02,\n",
       "        -2.47919762e-02, -1.08740588e-01, -4.24340475e-02,\n",
       "         2.60695258e-01, -1.26886752e-01, -3.42909465e-02,\n",
       "        -6.35658400e-02,  3.13872319e-01, -1.62088213e-01,\n",
       "        -9.18193357e-03,  2.41419786e-02,  8.24278575e-02,\n",
       "        -1.60261395e-01,  3.32605557e-01, -1.05457149e-01,\n",
       "        -3.08766589e-02, -1.32440203e-02, -4.33293053e-02,\n",
       "         1.26242006e-01, -3.07262938e-02,  8.84277893e-03,\n",
       "         3.48349972e-01, -1.94970174e-01, -8.77120559e-02,\n",
       "         2.89244324e-01,  1.01076935e+00,  3.69954228e-01,\n",
       "        -7.10902951e-02,  2.74250913e-01, -3.20686779e-01,\n",
       "        -1.30950099e-01, -1.85068769e-02,  4.98185449e-01,\n",
       "         2.34066512e-01, -2.99327815e-02,  9.61155847e-02,\n",
       "         1.53792051e-01]])"
      ]
     },
     "execution_count": 164,
     "metadata": {},
     "output_type": "execute_result"
    }
   ],
   "source": [
    "lreg.coef_"
   ]
  },
  {
   "cell_type": "code",
   "execution_count": 165,
   "id": "7eb49eb0",
   "metadata": {},
   "outputs": [
    {
     "data": {
      "text/plain": [
       "array([-2.06238319])"
      ]
     },
     "execution_count": 165,
     "metadata": {},
     "output_type": "execute_result"
    }
   ],
   "source": [
    "lreg.intercept_"
   ]
  },
  {
   "cell_type": "code",
   "execution_count": 167,
   "id": "a940bb7d",
   "metadata": {},
   "outputs": [],
   "source": [
    "y_pred=lreg.predict(test_x)"
   ]
  },
  {
   "cell_type": "code",
   "execution_count": 168,
   "id": "2b303c5a",
   "metadata": {},
   "outputs": [
    {
     "data": {
      "text/plain": [
       "array([[6326,  487],\n",
       "       [ 921, 1315]], dtype=int64)"
      ]
     },
     "execution_count": 168,
     "metadata": {},
     "output_type": "execute_result"
    }
   ],
   "source": [
    "#confusion Matrix to evaluate performace of Logistics regression\n",
    "\n",
    "conf_mat= confusion_matrix(test_y, y_pred)\n",
    "conf_mat\n"
   ]
  },
  {
   "cell_type": "code",
   "execution_count": 170,
   "id": "aa8c7679",
   "metadata": {},
   "outputs": [
    {
     "data": {
      "text/plain": [
       "0.8444026964305448"
      ]
     },
     "execution_count": 170,
     "metadata": {},
     "output_type": "execute_result"
    }
   ],
   "source": [
    "# Accuracy of Logistic Regression\n",
    "acc_score=accuracy_score(test_y, y_pred)\n",
    "acc_score"
   ]
  },
  {
   "cell_type": "code",
   "execution_count": 171,
   "id": "676e7110",
   "metadata": {},
   "outputs": [
    {
     "name": "stdout",
     "output_type": "stream",
     "text": [
      "Misclassified samples are : 1408\n"
     ]
    }
   ],
   "source": [
    "#printing the misclassified values from prediction\n",
    "\n",
    "print('Misclassified samples are : %d' %(test_y != y_pred).sum())"
   ]
  },
  {
   "cell_type": "markdown",
   "id": "cf798cb0",
   "metadata": {},
   "source": [
    "## Logistic Regresion by removing Insignificant variables\n",
    "\n"
   ]
  },
  {
   "cell_type": "code",
   "execution_count": 193,
   "id": "dec6205b",
   "metadata": {},
   "outputs": [],
   "source": [
    "#df2"
   ]
  },
  {
   "cell_type": "code",
   "execution_count": 173,
   "id": "d5bfda77",
   "metadata": {},
   "outputs": [],
   "source": [
    "cols= ['JobType', 'race','gender','nativecountry' ]"
   ]
  },
  {
   "cell_type": "code",
   "execution_count": 174,
   "id": "af1f07a2",
   "metadata": {},
   "outputs": [],
   "source": [
    "new_data2=df2.drop(cols, axis=1)"
   ]
  },
  {
   "cell_type": "code",
   "execution_count": 175,
   "id": "4e6b7431",
   "metadata": {},
   "outputs": [],
   "source": [
    "#creating Dummy variables\n",
    "new_data2=pd.get_dummies(new_data2, drop_first=True)"
   ]
  },
  {
   "cell_type": "code",
   "execution_count": 176,
   "id": "a6aa01a2",
   "metadata": {},
   "outputs": [],
   "source": [
    "#storing the columns names\n",
    "\n",
    "columns=list(new_data2.columns)"
   ]
  },
  {
   "cell_type": "code",
   "execution_count": 177,
   "id": "4a9145cd",
   "metadata": {},
   "outputs": [],
   "source": [
    "#separating the input column names from data\n",
    "features= list(set(columns) - set(['SalStat']))\n"
   ]
  },
  {
   "cell_type": "code",
   "execution_count": 178,
   "id": "65a6644c",
   "metadata": {},
   "outputs": [],
   "source": [
    "# Storing the output values in y\n",
    "\n",
    "y=new_data2['SalStat'].values\n"
   ]
  },
  {
   "cell_type": "code",
   "execution_count": 179,
   "id": "27f10aec",
   "metadata": {},
   "outputs": [],
   "source": [
    "#storing the input features\n",
    "\n",
    "x=new_data2[features].values\n"
   ]
  },
  {
   "cell_type": "code",
   "execution_count": 180,
   "id": "01298eea",
   "metadata": {},
   "outputs": [],
   "source": [
    "#scaling of data\n",
    "\n",
    "scaler = preprocessing.StandardScaler().fit(x)\n",
    "x_scaled = scaler.transform(x)"
   ]
  },
  {
   "cell_type": "code",
   "execution_count": 181,
   "id": "aadb8f90",
   "metadata": {},
   "outputs": [],
   "source": [
    "# train test split\n",
    "train_x, test_x, train_y, test_y = train_test_split(x_scaled, y, test_size=0.3, random_state=99)"
   ]
  },
  {
   "cell_type": "code",
   "execution_count": 182,
   "id": "24568a33",
   "metadata": {},
   "outputs": [
    {
     "data": {
      "text/plain": [
       "((21113, 43), (21113,), (9049, 43), (9049,))"
      ]
     },
     "execution_count": 182,
     "metadata": {},
     "output_type": "execute_result"
    }
   ],
   "source": [
    "train_x.shape, train_y.shape, test_x.shape, test_y.shape"
   ]
  },
  {
   "cell_type": "code",
   "execution_count": 183,
   "id": "74ab4e06",
   "metadata": {},
   "outputs": [],
   "source": [
    "# Model instance\n",
    "lreg2= LogisticRegression()"
   ]
  },
  {
   "cell_type": "code",
   "execution_count": 184,
   "id": "a0b9e4c9",
   "metadata": {},
   "outputs": [
    {
     "data": {
      "text/plain": [
       "LogisticRegression()"
      ]
     },
     "execution_count": 184,
     "metadata": {},
     "output_type": "execute_result"
    }
   ],
   "source": [
    "#fitting for x y training data\n",
    "\n",
    "lreg2.fit(train_x, train_y)"
   ]
  },
  {
   "cell_type": "code",
   "execution_count": 185,
   "id": "e4b08592",
   "metadata": {},
   "outputs": [
    {
     "data": {
      "text/plain": [
       "array([[ 0.34633398,  0.07374527,  0.06781801,  0.01050962,  0.21293546,\n",
       "        -0.06680391,  0.69248471,  0.00924802, -0.3154165 , -0.01614611,\n",
       "        -0.01074274, -0.05463227,  0.25914819, -0.13815768,  0.14659238,\n",
       "         0.30605414, -0.46847241,  0.26472732, -0.07666536,  0.07550319,\n",
       "         0.32920854, -0.09328656,  0.06945664, -0.02749182, -0.10182086,\n",
       "        -0.21568701,  0.41540396, -0.24960178, -0.49355682,  0.34818607,\n",
       "        -0.1842338 ,  0.00320257, -0.14555101,  0.0179546 , -0.15145041,\n",
       "         2.31666339,  0.09504029,  0.36456517,  1.0431672 ,  0.2722584 ,\n",
       "         0.48609764, -0.03415858,  0.10116119]])"
      ]
     },
     "execution_count": 185,
     "metadata": {},
     "output_type": "execute_result"
    }
   ],
   "source": [
    "lreg2.coef_"
   ]
  },
  {
   "cell_type": "code",
   "execution_count": 187,
   "id": "c256de36",
   "metadata": {},
   "outputs": [
    {
     "data": {
      "text/plain": [
       "array([-1.98966925])"
      ]
     },
     "execution_count": 187,
     "metadata": {},
     "output_type": "execute_result"
    }
   ],
   "source": [
    "lreg2.intercept_"
   ]
  },
  {
   "cell_type": "code",
   "execution_count": 189,
   "id": "25c31554",
   "metadata": {},
   "outputs": [],
   "source": [
    "y_pred=lreg2.predict(test_x)"
   ]
  },
  {
   "cell_type": "code",
   "execution_count": 190,
   "id": "11e8ab86",
   "metadata": {},
   "outputs": [
    {
     "data": {
      "text/plain": [
       "array([[6323,  490],\n",
       "       [ 930, 1306]], dtype=int64)"
      ]
     },
     "execution_count": 190,
     "metadata": {},
     "output_type": "execute_result"
    }
   ],
   "source": [
    "conf_mat= confusion_matrix(test_y, y_pred)\n",
    "conf_mat\n"
   ]
  },
  {
   "cell_type": "code",
   "execution_count": 191,
   "id": "12cc0ce4",
   "metadata": {},
   "outputs": [
    {
     "data": {
      "text/plain": [
       "0.8430765830478506"
      ]
     },
     "execution_count": 191,
     "metadata": {},
     "output_type": "execute_result"
    }
   ],
   "source": [
    "# Accuracy of Logistic Regression with reduced features\n",
    "acc_score=accuracy_score(test_y, y_pred)\n",
    "acc_score"
   ]
  },
  {
   "cell_type": "code",
   "execution_count": 192,
   "id": "502bd0e3",
   "metadata": {},
   "outputs": [
    {
     "name": "stdout",
     "output_type": "stream",
     "text": [
      "Misclassified samples (reduced feature Logistic Regression) are : 1420\n"
     ]
    }
   ],
   "source": [
    "#printing the misclassified values from prediction\n",
    "\n",
    "print('Misclassified samples (reduced feature Logistic Regression) are : %d' %(test_y != y_pred).sum())"
   ]
  },
  {
   "cell_type": "markdown",
   "id": "62fa5ae7",
   "metadata": {},
   "source": [
    "Since with reduced features also, the Accuracy remains same. So we will keep this as our final model"
   ]
  },
  {
   "cell_type": "code",
   "execution_count": null,
   "id": "783092b0",
   "metadata": {},
   "outputs": [],
   "source": []
  },
  {
   "cell_type": "markdown",
   "id": "4c9021a0",
   "metadata": {},
   "source": [
    "## K- Nearest Neighbour  (KNN) Model"
   ]
  },
  {
   "cell_type": "code",
   "execution_count": 195,
   "id": "5ac82df0",
   "metadata": {},
   "outputs": [],
   "source": [
    "from sklearn.neighbors import KNeighborsClassifier"
   ]
  },
  {
   "cell_type": "code",
   "execution_count": 196,
   "id": "52737423",
   "metadata": {},
   "outputs": [],
   "source": [
    "# Storing the K nearest neighbors\n",
    "KNN_classifier= KNeighborsClassifier(n_neighbors= 5)"
   ]
  },
  {
   "cell_type": "code",
   "execution_count": 197,
   "id": "b49e79e6",
   "metadata": {},
   "outputs": [
    {
     "data": {
      "text/plain": [
       "KNeighborsClassifier()"
      ]
     },
     "execution_count": 197,
     "metadata": {},
     "output_type": "execute_result"
    }
   ],
   "source": [
    "#fitting training values\n",
    "\n",
    "KNN_classifier.fit(train_x, train_y)"
   ]
  },
  {
   "cell_type": "code",
   "execution_count": 198,
   "id": "92b0175a",
   "metadata": {},
   "outputs": [],
   "source": [
    "#predicting the test values with model\n",
    "\n",
    "y_pred= KNN_classifier.predict(test_x)"
   ]
  },
  {
   "cell_type": "code",
   "execution_count": 199,
   "id": "d1e38016",
   "metadata": {},
   "outputs": [
    {
     "data": {
      "text/plain": [
       "array([[6133,  680],\n",
       "       [ 988, 1248]], dtype=int64)"
      ]
     },
     "execution_count": 199,
     "metadata": {},
     "output_type": "execute_result"
    }
   ],
   "source": [
    "#performance matrix check\n",
    "conf_mat= confusion_matrix(test_y, y_pred)\n",
    "conf_mat\n"
   ]
  },
  {
   "cell_type": "code",
   "execution_count": 200,
   "id": "5c3a0975",
   "metadata": {},
   "outputs": [
    {
     "data": {
      "text/plain": [
       "0.8156702398055033"
      ]
     },
     "execution_count": 200,
     "metadata": {},
     "output_type": "execute_result"
    }
   ],
   "source": [
    "# Accuracy Score \n",
    "acc_score=accuracy_score(test_y, y_pred)\n",
    "acc_score\n"
   ]
  },
  {
   "cell_type": "code",
   "execution_count": 201,
   "id": "d10d6a5a",
   "metadata": {},
   "outputs": [
    {
     "name": "stdout",
     "output_type": "stream",
     "text": [
      "Misclassified samples (reduced feature Logistic Regression) are : 1668\n"
     ]
    }
   ],
   "source": [
    "#printing the misclassified values from prediction\n",
    "\n",
    "print('Misclassified samples (reduced feature Logistic Regression) are : %d' %(test_y != y_pred).sum())"
   ]
  },
  {
   "cell_type": "code",
   "execution_count": 204,
   "id": "cc04dd41",
   "metadata": {},
   "outputs": [],
   "source": [
    "## Effect of K value on classifier\n",
    "accu_score=[]\n",
    "Misclassified_sample=[]\n",
    "\n",
    "for i in range (1,20):\n",
    "    knn= KNeighborsClassifier(n_neighbors= i)\n",
    "    knn.fit(train_x, train_y)\n",
    "    pred_i= knn.predict(test_x)\n",
    "    acc_score=accuracy_score(test_y, pred_i)\n",
    "    accu_score.append(acc_score)\n",
    "    Misclassified_sample.append((test_y != pred_i).sum())\n",
    "\n",
    "\n"
   ]
  },
  {
   "cell_type": "code",
   "execution_count": 205,
   "id": "4b9269ac",
   "metadata": {},
   "outputs": [
    {
     "name": "stdout",
     "output_type": "stream",
     "text": [
      "[0.7993148414189413, 0.8129075035915571, 0.8153387114598298, 0.8173278815338711, 0.8156702398055033, 0.8216377500276274, 0.8190960327107968, 0.819648579953586, 0.8211957122333959, 0.819648579953586, 0.8209746933362803, 0.8194275610564703, 0.8199801082992596, 0.8183224665708918, 0.8184329760194496, 0.8168858437396398, 0.8188750138136811, 0.8206431649906067, 0.820422146093491]\n"
     ]
    }
   ],
   "source": [
    "print (accu_score)"
   ]
  },
  {
   "cell_type": "code",
   "execution_count": 206,
   "id": "b0e05d87",
   "metadata": {},
   "outputs": [
    {
     "name": "stdout",
     "output_type": "stream",
     "text": [
      "[1816, 1693, 1671, 1653, 1668, 1614, 1637, 1632, 1618, 1632, 1620, 1634, 1629, 1644, 1643, 1657, 1639, 1623, 1625]\n"
     ]
    }
   ],
   "source": [
    "print (Misclassified_sample)"
   ]
  },
  {
   "cell_type": "markdown",
   "id": "43cbf983",
   "metadata": {},
   "source": [
    "So, at k =6 , we are getting lowest Missclasified samples (1614) and accuracy of 82.16%"
   ]
  },
  {
   "cell_type": "code",
   "execution_count": null,
   "id": "460b17da",
   "metadata": {},
   "outputs": [],
   "source": []
  }
 ],
 "metadata": {
  "kernelspec": {
   "display_name": "Python 3 (ipykernel)",
   "language": "python",
   "name": "python3"
  },
  "language_info": {
   "codemirror_mode": {
    "name": "ipython",
    "version": 3
   },
   "file_extension": ".py",
   "mimetype": "text/x-python",
   "name": "python",
   "nbconvert_exporter": "python",
   "pygments_lexer": "ipython3",
   "version": "3.9.12"
  }
 },
 "nbformat": 4,
 "nbformat_minor": 5
}
